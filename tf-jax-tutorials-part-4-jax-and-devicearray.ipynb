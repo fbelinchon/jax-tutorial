{
 "cells": [
  {
   "cell_type": "markdown",
   "id": "932fb16c",
   "metadata": {
    "papermill": {
     "duration": 0.019735,
     "end_time": "2022-10-06T10:00:07.671415",
     "exception": false,
     "start_time": "2022-10-06T10:00:07.651680",
     "status": "completed"
    },
    "tags": []
   },
   "source": [
    "**Update - 23rd Dec, 2021**\n",
    "\n",
    "We have completed the TF-JAX tutorials series. 10 notebooks that covers every fundamental aspect of both TensorFlow and JAX. Here are the links to the notebooks along with the Github repo details:\n",
    "\n",
    "### TensorFlow Notebooks:\n",
    "\n",
    "* [TF_JAX_Tutorials - Part 1](https://www.kaggle.com/aakashnain/tf-jax-tutorials-part1)\n",
    "* [TF_JAX_Tutorials - Part 2](https://www.kaggle.com/aakashnain/tf-jax-tutorials-part2)\n",
    "* [TF_JAX_Tutorials - Part 3](https://www.kaggle.com/aakashnain/tf-jax-tutorials-part3)\n",
    "\n",
    "### JAX Notebooks:\n",
    "\n",
    "* [TF_JAX_Tutorials - Part 4 (JAX and DeviceArray)](https://www.kaggle.com/aakashnain/tf-jax-tutorials-part-4-jax-and-devicearray)\n",
    "* [TF_JAX_Tutorials - Part 5 (Pure Functions in JAX)](https://www.kaggle.com/aakashnain/tf-jax-tutorials-part-5-pure-functions-in-jax/)\n",
    "* [TF_JAX_Tutorials - Part 6 (PRNG in JAX)](https://www.kaggle.com/aakashnain/tf-jax-tutorials-part-6-prng-in-jax/)\n",
    "* [TF_JAX_Tutorials - Part 7 (JIT in JAX)](https://www.kaggle.com/aakashnain/tf-jax-tutorials-part-7-jit-in-jax)\n",
    "* [TF_JAX_Tutorials - Part 8 (Vmap and Pmap)](https://www.kaggle.com/aakashnain/tf-jax-tutorials-part-8-vmap-pmap)\n",
    "* [TF_JAX_Tutorials - Part 9 (Autodiff in JAX)](https://www.kaggle.com/aakashnain/tf-jax-tutorials-part-9-autodiff-in-jax)\n",
    "* [TF_JAX_Tutorials - Part 10 (Pytrees in JAX)](https://www.kaggle.com/aakashnain/tf-jax-tutorials-part-10-pytrees-in-jax)\n",
    "\n",
    "### Github Repo with all notebooks in one place\n",
    "https://github.com/AakashKumarNain/TF_JAX_tutorials\n",
    "\n",
    "---\n",
    "\n",
    "<img src=\"https://raw.githubusercontent.com/google/jax/main/images/jax_logo_250px.png\" width=\"300\" height=\"300\" align=\"center\"/>\n",
    "\n",
    "I hope you have been liking the tutorials so far. This is the fourth tutorial in this series and today, we will be starting with **JAX**. If you haven't looked at the previous tutorials, I highly suggest going through them once. Here are the links:\n",
    "\n",
    "1. [TF_JAX_Tutorials - Part 1](https://www.kaggle.com/aakashnain/tf-jax-tutorials-part1)\n",
    "2. [TF_JAX_Tutorials - Part 2](https://www.kaggle.com/aakashnain/tf-jax-tutorials-part2)\n",
    "3. [TF_JAX_Tutorials - Part 3](https://www.kaggle.com/aakashnain/tf-jax-tutorials-part3)"
   ]
  },
  {
   "cell_type": "markdown",
   "id": "da243872",
   "metadata": {
    "papermill": {
     "duration": 0.019113,
     "end_time": "2022-10-06T10:00:07.710851",
     "exception": false,
     "start_time": "2022-10-06T10:00:07.691738",
     "status": "completed"
    },
    "tags": []
   },
   "source": [
    "# What is JAX anyway?\n",
    "\n",
    "**JAX** is a framework that is specifically suited for Machine Learning Research (more on this later). A few points about JAX:\n",
    "1. It's just like `numpy` but uses a compiler (XLA) to compile native Numpy code, and runs on acceleartors (GPU/TPU)\n",
    "2. For automatic differentiation, JAX uses `Autograd`. It automatically differentiate native Python and Numpy code.\n",
    "3. JAX is used to express numerical programs as compositions but with certain constraints e.g. JAX transformation and compilation are designed to work only on Python functions that are functionally pure. A function is pure if it always returns the same value when invoked with same arguments, and the function has no-side affect e.g. chaning the state of a non-local variables\n",
    "4. In terms of syntax, JAX is very very similar to numpy but there are subtle differences that you should be aware of. We will look into it in a bit.\n",
    "\n",
    "Let's take a few examples to see JAX in-play!"
   ]
  },
  {
   "cell_type": "code",
   "execution_count": 1,
   "id": "9e328bc0",
   "metadata": {
    "_cell_guid": "b1076dfc-b9ad-4769-8c92-a6c4dae69d19",
    "_uuid": "8f2839f25d086af736a60e9eeb907d3b93b6e0e5",
    "execution": {
     "iopub.execute_input": "2022-10-06T10:00:07.752001Z",
     "iopub.status.busy": "2022-10-06T10:00:07.751142Z",
     "iopub.status.idle": "2022-10-06T10:00:09.685987Z",
     "shell.execute_reply": "2022-10-06T10:00:09.686367Z",
     "shell.execute_reply.started": "2022-10-06T09:30:20.528185Z"
    },
    "papermill": {
     "duration": 1.956779,
     "end_time": "2022-10-06T10:00:09.686682",
     "exception": false,
     "start_time": "2022-10-06T10:00:07.729903",
     "status": "completed"
    },
    "scrolled": true,
    "tags": []
   },
   "outputs": [],
   "source": [
    "import time\n",
    "\n",
    "import jax\n",
    "import numpy as np\n",
    "import jax.numpy as jnp\n",
    "from jax import random\n",
    "\n",
    "%config IPCompleter.use_jedi = False"
   ]
  },
  {
   "cell_type": "code",
   "execution_count": 2,
   "id": "f68d0c23",
   "metadata": {
    "execution": {
     "iopub.execute_input": "2022-10-06T10:00:09.727849Z",
     "iopub.status.busy": "2022-10-06T10:00:09.727307Z",
     "iopub.status.idle": "2022-10-06T10:00:10.035080Z",
     "shell.execute_reply": "2022-10-06T10:00:10.035518Z",
     "shell.execute_reply.started": "2022-10-06T09:31:25.825477Z"
    },
    "papermill": {
     "duration": 0.329839,
     "end_time": "2022-10-06T10:00:10.035657",
     "exception": false,
     "start_time": "2022-10-06T10:00:09.705818",
     "status": "completed"
    },
    "tags": []
   },
   "outputs": [
    {
     "name": "stdout",
     "output_type": "stream",
     "text": [
      "Array created using numpy:  [0 1 2 3 4 5 6 7 8 9]\n",
      "Array created using JAX:  [0 1 2 3 4 5 6 7 8 9]\n"
     ]
    }
   ],
   "source": [
    "# We will create two arrays, one with numpy and other with jax\n",
    "# to check the common things and the differences\n",
    "\n",
    "array_numpy = np.arange(10, dtype=np.int32)\n",
    "array_jax = jnp.arange(10, dtype=jnp.int32)\n",
    "\n",
    "print(\"Array created using numpy: \", array_numpy)\n",
    "print(\"Array created using JAX: \", array_jax)"
   ]
  },
  {
   "cell_type": "code",
   "execution_count": 3,
   "id": "8a710e9f",
   "metadata": {
    "execution": {
     "iopub.execute_input": "2022-10-06T10:00:10.079967Z",
     "iopub.status.busy": "2022-10-06T10:00:10.079359Z",
     "iopub.status.idle": "2022-10-06T10:00:10.086026Z",
     "shell.execute_reply": "2022-10-06T10:00:10.085455Z",
     "shell.execute_reply.started": "2022-10-06T09:31:37.080229Z"
    },
    "papermill": {
     "duration": 0.030662,
     "end_time": "2022-10-06T10:00:10.086162",
     "exception": false,
     "start_time": "2022-10-06T10:00:10.055500",
     "status": "completed"
    },
    "tags": []
   },
   "outputs": [
    {
     "name": "stdout",
     "output_type": "stream",
     "text": [
      "array_numpy is of type : <class 'numpy.ndarray'>\n",
      "array_jax is of type : <class 'jaxlib.xla_extension.DeviceArray'>\n"
     ]
    }
   ],
   "source": [
    "# What types of array are these?\n",
    "print(f\"array_numpy is of type : {type(array_numpy)}\")\n",
    "print(f\"array_jax is of type : {type(array_jax)}\")"
   ]
  },
  {
   "cell_type": "markdown",
   "id": "57621d87",
   "metadata": {
    "papermill": {
     "duration": 0.01918,
     "end_time": "2022-10-06T10:00:10.127365",
     "exception": false,
     "start_time": "2022-10-06T10:00:10.108185",
     "status": "completed"
    },
    "tags": []
   },
   "source": [
    "So, `array_numpy` is an object of **`ndarray`** while `array_jax` is an object of **`DeviceArray`**. Before discussing anything else, let's dive into **`DeviceArray`** and see what makes **DeviceArray** so special.\n"
   ]
  },
  {
   "cell_type": "markdown",
   "id": "a3c510e3",
   "metadata": {
    "papermill": {
     "duration": 0.019153,
     "end_time": "2022-10-06T10:00:10.165952",
     "exception": false,
     "start_time": "2022-10-06T10:00:10.146799",
     "status": "completed"
    },
    "tags": []
   },
   "source": [
    "# DeviceArray\n",
    "\n",
    "Following are the points that you should know about **`DeviceArray`**:\n",
    "1. It is the core underlying JAX array object, similar to `ndarray` but with subtle differences (more on this in the examples below)\n",
    "2. Unlike `ndarray`, `DeviceArray` is backed by a memory buffer on a single device (CPU/GPU/TPU)\n",
    "3. It is **device-agnostic** i.e. JAX doesn't need to track the device on which the array is present, and can avoid data transfers\n",
    "4. Because it is device agnostic, this makes it easy to run the same JAX code on CPU, GPU, or TPU with no code changes\n",
    "5. `DeviceArray` is **lazy** i.e. the value of a JAX `DeviceArray` isn't immediately available and is only pulled when requested.\n",
    "6. Even though `DeviceArray` is lazy, you can still do operations like inspecting the shape or type of a DeviceArray without waiting for the computation that produced it to complete. We can even pass it to another JAX computation. (The examples will make it more clear)\n",
    "\n",
    "The two properties **lazy evaluation**, and being **device-agnostic** give **`DeviceArray`** a huge advantage. You will see this in the future tutorials as we dive deeper and deeper into complex things like model building, optimization, etc."
   ]
  },
  {
   "cell_type": "markdown",
   "id": "fa400063",
   "metadata": {
    "papermill": {
     "duration": 0.019221,
     "end_time": "2022-10-06T10:00:10.204866",
     "exception": false,
     "start_time": "2022-10-06T10:00:10.185645",
     "status": "completed"
    },
    "tags": []
   },
   "source": [
    "# Numpy vs JAX-numpy\n",
    "\n",
    "`jax numpy` is very very similar to `numpy` in terms of API. *Most of the operations* that you do in numpy are also available in jax numpy with similar semantics. I am just listing down a few operations to showcase this but there are many more. Please check the [docs](https://jax.readthedocs.io/en/latest/jax.numpy.html) to see the list of functions that are available.\n",
    "\n",
    "**Note:** Not all Numpy functions are implemented in JAX numpy (..yet)"
   ]
  },
  {
   "cell_type": "code",
   "execution_count": 4,
   "id": "7afe5e58",
   "metadata": {
    "execution": {
     "iopub.execute_input": "2022-10-06T10:00:10.254553Z",
     "iopub.status.busy": "2022-10-06T10:00:10.246282Z",
     "iopub.status.idle": "2022-10-06T10:00:10.276649Z",
     "shell.execute_reply": "2022-10-06T10:00:10.277265Z",
     "shell.execute_reply.started": "2022-10-06T09:36:13.712327Z"
    },
    "papermill": {
     "duration": 0.053155,
     "end_time": "2022-10-06T10:00:10.277418",
     "exception": false,
     "start_time": "2022-10-06T10:00:10.224263",
     "status": "completed"
    },
    "tags": []
   },
   "outputs": [
    {
     "name": "stdout",
     "output_type": "stream",
     "text": [
      "Maximum element in ndarray: 9\n",
      "Maximum element in DeviceArray: 9\n"
     ]
    }
   ],
   "source": [
    "# Find the max element. Similarly you can find `min` as well\n",
    "print(f\"Maximum element in ndarray: {array_numpy.max()}\")\n",
    "print(f\"Maximum element in DeviceArray: {array_jax.max()}\")"
   ]
  },
  {
   "cell_type": "code",
   "execution_count": 5,
   "id": "0384d31a",
   "metadata": {
    "execution": {
     "iopub.execute_input": "2022-10-06T10:00:10.320831Z",
     "iopub.status.busy": "2022-10-06T10:00:10.320290Z",
     "iopub.status.idle": "2022-10-06T10:00:10.336257Z",
     "shell.execute_reply": "2022-10-06T10:00:10.336783Z",
     "shell.execute_reply.started": "2022-10-06T09:36:25.320460Z"
    },
    "papermill": {
     "duration": 0.038947,
     "end_time": "2022-10-06T10:00:10.336944",
     "exception": false,
     "start_time": "2022-10-06T10:00:10.297997",
     "status": "completed"
    },
    "tags": []
   },
   "outputs": [
    {
     "name": "stdout",
     "output_type": "stream",
     "text": [
      "Original shape of ndarray:  (10,)\n",
      "Original shape of DeviceArray:  (10,)\n",
      "\n",
      "New shape of ndarray:  (10, 1)\n",
      "New shape of DeviceArray:  (10, 1)\n"
     ]
    }
   ],
   "source": [
    "# Reshaping\n",
    "print(\"Original shape of ndarray: \", array_numpy.shape)\n",
    "print(\"Original shape of DeviceArray: \", array_jax.shape)\n",
    "\n",
    "array_numpy = array_numpy.reshape(-1, 1)\n",
    "array_jax = array_jax.reshape(-1, 1)\n",
    "\n",
    "print(\"\\nNew shape of ndarray: \", array_numpy.shape)\n",
    "print(\"New shape of DeviceArray: \", array_jax.shape)"
   ]
  },
  {
   "cell_type": "code",
   "execution_count": 6,
   "id": "735fd4b3",
   "metadata": {
    "execution": {
     "iopub.execute_input": "2022-10-06T10:00:10.382680Z",
     "iopub.status.busy": "2022-10-06T10:00:10.381287Z",
     "iopub.status.idle": "2022-10-06T10:00:10.396955Z",
     "shell.execute_reply": "2022-10-06T10:00:10.396449Z",
     "shell.execute_reply.started": "2022-10-06T09:39:08.678917Z"
    },
    "papermill": {
     "duration": 0.039315,
     "end_time": "2022-10-06T10:00:10.397073",
     "exception": false,
     "start_time": "2022-10-06T10:00:10.357758",
     "status": "completed"
    },
    "tags": []
   },
   "outputs": [
    {
     "data": {
      "text/plain": [
       "DeviceArray([[0, 1, 2, 3, 4],\n",
       "             [5, 6, 7, 8, 9]], dtype=int32)"
      ]
     },
     "execution_count": 6,
     "metadata": {},
     "output_type": "execute_result"
    }
   ],
   "source": [
    "\n",
    "array2 = jnp.arange(10, dtype=jnp.int32)\n",
    "array2.reshape(2,-1)"
   ]
  },
  {
   "cell_type": "code",
   "execution_count": 7,
   "id": "1cfda2b2",
   "metadata": {
    "execution": {
     "iopub.execute_input": "2022-10-06T10:00:10.445859Z",
     "iopub.status.busy": "2022-10-06T10:00:10.445157Z",
     "iopub.status.idle": "2022-10-06T10:00:10.543657Z",
     "shell.execute_reply": "2022-10-06T10:00:10.543195Z",
     "shell.execute_reply.started": "2022-10-06T09:39:24.828930Z"
    },
    "papermill": {
     "duration": 0.12575,
     "end_time": "2022-10-06T10:00:10.543774",
     "exception": false,
     "start_time": "2022-10-06T10:00:10.418024",
     "status": "completed"
    },
    "tags": []
   },
   "outputs": [
    {
     "name": "stdout",
     "output_type": "stream",
     "text": [
      "Absoulte pairwise difference in ndarray\n",
      "[[0 1 2 3 4 5 6 7 8 9]\n",
      " [1 0 1 2 3 4 5 6 7 8]\n",
      " [2 1 0 1 2 3 4 5 6 7]\n",
      " [3 2 1 0 1 2 3 4 5 6]\n",
      " [4 3 2 1 0 1 2 3 4 5]\n",
      " [5 4 3 2 1 0 1 2 3 4]\n",
      " [6 5 4 3 2 1 0 1 2 3]\n",
      " [7 6 5 4 3 2 1 0 1 2]\n",
      " [8 7 6 5 4 3 2 1 0 1]\n",
      " [9 8 7 6 5 4 3 2 1 0]]\n",
      "\n",
      "Absoulte pairwise difference in DeviceArray\n",
      "[[0 1 2 3 4 5 6 7 8 9]\n",
      " [1 0 1 2 3 4 5 6 7 8]\n",
      " [2 1 0 1 2 3 4 5 6 7]\n",
      " [3 2 1 0 1 2 3 4 5 6]\n",
      " [4 3 2 1 0 1 2 3 4 5]\n",
      " [5 4 3 2 1 0 1 2 3 4]\n",
      " [6 5 4 3 2 1 0 1 2 3]\n",
      " [7 6 5 4 3 2 1 0 1 2]\n",
      " [8 7 6 5 4 3 2 1 0 1]\n",
      " [9 8 7 6 5 4 3 2 1 0]]\n",
      "\n",
      "Are all the values same? True\n"
     ]
    }
   ],
   "source": [
    "# Absoulte pairwise difference\n",
    "print(\"Absoulte pairwise difference in ndarray\")\n",
    "print(np.abs(array_numpy - array_numpy.T))\n",
    "\n",
    "print(\"\\nAbsoulte pairwise difference in DeviceArray\")\n",
    "print(jnp.abs(array_jax - array_jax.T))\n",
    "\n",
    "# Are they equal?\n",
    "print(\"\\nAre all the values same?\", end=\" \")\n",
    "print(jnp.alltrue(np.abs(array_numpy - array_numpy.T) == jnp.abs(array_jax - array_jax.T)))"
   ]
  },
  {
   "cell_type": "code",
   "execution_count": 8,
   "id": "3f06851d",
   "metadata": {
    "execution": {
     "iopub.execute_input": "2022-10-06T10:00:10.592307Z",
     "iopub.status.busy": "2022-10-06T10:00:10.589680Z",
     "iopub.status.idle": "2022-10-06T10:00:10.613163Z",
     "shell.execute_reply": "2022-10-06T10:00:10.612651Z",
     "shell.execute_reply.started": "2022-10-06T09:47:57.460718Z"
    },
    "papermill": {
     "duration": 0.048409,
     "end_time": "2022-10-06T10:00:10.613273",
     "exception": false,
     "start_time": "2022-10-06T10:00:10.564864",
     "status": "completed"
    },
    "tags": []
   },
   "outputs": [
    {
     "name": "stdout",
     "output_type": "stream",
     "text": [
      "Matrix multiplication of ndarray\n",
      "[[ 0  0  0  0  0  0  0  0  0  0]\n",
      " [ 0  1  2  3  4  5  6  7  8  9]\n",
      " [ 0  2  4  6  8 10 12 14 16 18]\n",
      " [ 0  3  6  9 12 15 18 21 24 27]\n",
      " [ 0  4  8 12 16 20 24 28 32 36]\n",
      " [ 0  5 10 15 20 25 30 35 40 45]\n",
      " [ 0  6 12 18 24 30 36 42 48 54]\n",
      " [ 0  7 14 21 28 35 42 49 56 63]\n",
      " [ 0  8 16 24 32 40 48 56 64 72]\n",
      " [ 0  9 18 27 36 45 54 63 72 81]]\n",
      "\n",
      "Matrix multiplication of DeviceArray\n",
      "[[ 0  0  0  0  0  0  0  0  0  0]\n",
      " [ 0  1  2  3  4  5  6  7  8  9]\n",
      " [ 0  2  4  6  8 10 12 14 16 18]\n",
      " [ 0  3  6  9 12 15 18 21 24 27]\n",
      " [ 0  4  8 12 16 20 24 28 32 36]\n",
      " [ 0  5 10 15 20 25 30 35 40 45]\n",
      " [ 0  6 12 18 24 30 36 42 48 54]\n",
      " [ 0  7 14 21 28 35 42 49 56 63]\n",
      " [ 0  8 16 24 32 40 48 56 64 72]\n",
      " [ 0  9 18 27 36 45 54 63 72 81]]\n",
      "Are the same? True\n"
     ]
    }
   ],
   "source": [
    "# Matrix multiplication\n",
    "print(\"Matrix multiplication of ndarray\")\n",
    "print(np.dot(array_numpy, array_numpy.T))\n",
    "\n",
    "print(\"\\nMatrix multiplication of DeviceArray\")\n",
    "print(jnp.dot(array_jax, array_jax.T))\n",
    "\n",
    "print(\"Are the same?\", end=\" \")\n",
    "print(jnp.alltrue(np.dot(array_numpy, array_numpy.T) == jnp.dot(array_jax, array_jax.T)))"
   ]
  },
  {
   "cell_type": "markdown",
   "id": "19e8a27c",
   "metadata": {
    "papermill": {
     "duration": 0.021584,
     "end_time": "2022-10-06T10:00:10.656360",
     "exception": false,
     "start_time": "2022-10-06T10:00:10.634776",
     "status": "completed"
    },
    "tags": []
   },
   "source": [
    "Now, let's take a look at some of the things that you can do in Numpy but not in Jax-numpy and vice-versa"
   ]
  },
  {
   "cell_type": "markdown",
   "id": "077de44b",
   "metadata": {
    "papermill": {
     "duration": 0.02117,
     "end_time": "2022-10-06T10:00:10.699178",
     "exception": false,
     "start_time": "2022-10-06T10:00:10.678008",
     "status": "completed"
    },
    "tags": []
   },
   "source": [
    "# Immutability\n",
    "\n",
    "JAX arrays are **immutable**, just like [**TensorFlow tensors**](https://www.kaggle.com/aakashnain/tf-jax-tutorials-part1). Meaning, JAX arrays don't support `item assignment` as you do in `ndarray`. Let's take an example!"
   ]
  },
  {
   "cell_type": "code",
   "execution_count": 9,
   "id": "aee40756",
   "metadata": {
    "execution": {
     "iopub.execute_input": "2022-10-06T10:00:10.748158Z",
     "iopub.status.busy": "2022-10-06T10:00:10.747635Z",
     "iopub.status.idle": "2022-10-06T10:00:10.758589Z",
     "shell.execute_reply": "2022-10-06T10:00:10.759087Z",
     "shell.execute_reply.started": "2022-10-06T09:48:16.227840Z"
    },
    "papermill": {
     "duration": 0.038499,
     "end_time": "2022-10-06T10:00:10.759266",
     "exception": false,
     "start_time": "2022-10-06T10:00:10.720767",
     "status": "completed"
    },
    "tags": []
   },
   "outputs": [
    {
     "name": "stdout",
     "output_type": "stream",
     "text": [
      "Original ndarray:  [0 1 2 3 4]\n",
      "Original DeviceArray:  [0 1 2 3 4]\n",
      "\n",
      "Modified ndarray:  [ 0  1  2  3 10]\n",
      "\n",
      "Trying to modify DeviceArray->  TypeError '<class 'jaxlib.xla_extension.DeviceArray'>' object does not support item assignment. JAX arrays are immutable; perhaps you want jax.ops.index_update or jax.ops.index_add instead?\n"
     ]
    }
   ],
   "source": [
    "array1 = np.arange(5, dtype=np.int32)\n",
    "array2 = jnp.arange(5, dtype=jnp.int32)\n",
    "\n",
    "print(\"Original ndarray: \", array1)\n",
    "print(\"Original DeviceArray: \", array2)\n",
    "\n",
    "# Item assignment\n",
    "array1[4] = 10\n",
    "print(\"\\nModified ndarray: \", array1)\n",
    "print(\"\\nTrying to modify DeviceArray-> \", end=\" \")\n",
    "\n",
    "try:\n",
    "    array2[4] = 10\n",
    "    print(\"Modified DeviceArray: \", array2)\n",
    "except Exception as ex:\n",
    "    print(type(ex).__name__, ex)"
   ]
  },
  {
   "cell_type": "markdown",
   "id": "0c787e07",
   "metadata": {
    "papermill": {
     "duration": 0.021593,
     "end_time": "2022-10-06T10:00:10.803864",
     "exception": false,
     "start_time": "2022-10-06T10:00:10.782271",
     "status": "completed"
    },
    "tags": []
   },
   "source": [
    "This situation is exactly the same as we have with TensorFlow Tensors. Similar to `tf.tensor_scatter_nd_update` in TensorFlow, we have [Indexed update operators](https://jax.readthedocs.io/en/latest/jax.ops.html#indexed-update-operators)( earlier there used to be [**jax.ops.index_update(..)**](https://jax.readthedocs.io/en/latest/_autosummary/jax.ops.index_update.html#jax.ops.index_update) but it's deprecated now). The syntax is pretty simple e.g. `DeviceArray.at[idx].op(val)`. This doesn't modify the original array though, it returns a new array with the elements updated as specified\n",
    "\n",
    "\n",
    "A question that naturally comes to mind? **Why immutability?** The thing is that JAX relies on **pure functions**. Allowing item-assignment or in-place updates is the opposite of that philosophy.\n",
    "\n",
    "But then why TF Tensors are immutable as it doesn't need pure functions? If you are doing any optimization on a DAG, it is highly advisable to avoid things that change the state of an op used in the computation to avoid any side effects."
   ]
  },
  {
   "cell_type": "code",
   "execution_count": 10,
   "id": "fe2f3b96",
   "metadata": {
    "execution": {
     "iopub.execute_input": "2022-10-06T10:00:10.852767Z",
     "iopub.status.busy": "2022-10-06T10:00:10.852265Z",
     "iopub.status.idle": "2022-10-06T10:00:10.918677Z",
     "shell.execute_reply": "2022-10-06T10:00:10.918203Z",
     "shell.execute_reply.started": "2022-10-06T09:50:16.261719Z"
    },
    "papermill": {
     "duration": 0.092915,
     "end_time": "2022-10-06T10:00:10.918789",
     "exception": false,
     "start_time": "2022-10-06T10:00:10.825874",
     "status": "completed"
    },
    "tags": []
   },
   "outputs": [
    {
     "name": "stdout",
     "output_type": "stream",
     "text": [
      "Original DeviceArray:  [0 1 2 3 4]\n",
      "Modified DeviceArray:  [ 0  1  2  3 10]\n"
     ]
    }
   ],
   "source": [
    "# Modifying DeviceArray elements at specific index/indices\n",
    "array2_modified = array2.at[4].set(10)\n",
    "\n",
    "# Equivalent => array2_modified = jax.ops.index_update(array2, 4, 10)\n",
    "\n",
    "print(\"Original DeviceArray: \", array2)\n",
    "print(\"Modified DeviceArray: \", array2_modified)"
   ]
  },
  {
   "cell_type": "code",
   "execution_count": 11,
   "id": "6541c2e2",
   "metadata": {
    "execution": {
     "iopub.execute_input": "2022-10-06T10:00:10.965029Z",
     "iopub.status.busy": "2022-10-06T10:00:10.964518Z",
     "iopub.status.idle": "2022-10-06T10:00:11.024784Z",
     "shell.execute_reply": "2022-10-06T10:00:11.024268Z",
     "shell.execute_reply.started": "2022-10-06T09:51:40.752179Z"
    },
    "papermill": {
     "duration": 0.084636,
     "end_time": "2022-10-06T10:00:11.024906",
     "exception": false,
     "start_time": "2022-10-06T10:00:10.940270",
     "status": "completed"
    },
    "tags": []
   },
   "outputs": [
    {
     "name": "stdout",
     "output_type": "stream",
     "text": [
      "[ 0  1  2  3 10]\n",
      "[ 0  1  2  3 20]\n",
      "[ 0  1  2  3 -1]\n",
      "\n",
      "Equivalent but deprecatd\n",
      "[ 0  1  2  3 10]\n",
      "[ 0  1  2  3 20]\n",
      "[ 0  1  2  3 -1]\n"
     ]
    }
   ],
   "source": [
    "# Of course, updates come in many forms!\n",
    "# Of course, updates come in many forms!\n",
    "print(array2.at[4].add(6))\n",
    "print(array2.at[4].max(20))\n",
    "print(array2.at[4].min(-1))\n",
    "\n",
    "# Equivalent but depecated. Just to showcase the similarity to tf scatter_nd_update\n",
    "print(\"\\nEquivalent but deprecatd\")\n",
    "print(jax.ops.index_add(array2, 4, 6))\n",
    "print(jax.ops.index_max(array2, 4, 20))\n",
    "print(jax.ops.index_min(array2, 4, -1))"
   ]
  },
  {
   "cell_type": "markdown",
   "id": "fba47ea5",
   "metadata": {
    "papermill": {
     "duration": 0.022191,
     "end_time": "2022-10-06T10:00:11.069333",
     "exception": false,
     "start_time": "2022-10-06T10:00:11.047142",
     "status": "completed"
    },
    "tags": []
   },
   "source": [
    "# Asynchronous dispatch\n",
    "\n",
    "One of the biggest differences between `ndarrays` and `DeviceArrays` is in their execution and their availability. JAX uses asynchronous dispatch to hide Python overheads. Let's take an example to understand what it means."
   ]
  },
  {
   "cell_type": "code",
   "execution_count": 12,
   "id": "d5a61f8d",
   "metadata": {
    "execution": {
     "iopub.execute_input": "2022-10-06T10:00:11.119650Z",
     "iopub.status.busy": "2022-10-06T10:00:11.119062Z",
     "iopub.status.idle": "2022-10-06T10:00:11.959169Z",
     "shell.execute_reply": "2022-10-06T10:00:11.958624Z",
     "shell.execute_reply.started": "2022-10-06T09:52:05.844919Z"
    },
    "papermill": {
     "duration": 0.867648,
     "end_time": "2022-10-06T10:00:11.959311",
     "exception": false,
     "start_time": "2022-10-06T10:00:11.091663",
     "status": "completed"
    },
    "tags": []
   },
   "outputs": [
    {
     "name": "stdout",
     "output_type": "stream",
     "text": [
      "Shape of ndarray:  (8000, 8000)\n",
      "Shape of DeviceArray:  (8000, 8000)\n"
     ]
    }
   ],
   "source": [
    "# Create two random arrays sampled from a uniform distribution\n",
    "array1 = np.random.uniform(size=(8000, 8000)).astype(np.float32)\n",
    "array2 = jax.random.uniform(jax.random.PRNGKey(0), (8000, 8000), dtype=jnp.float32) # More on PRNGKey later!\n",
    "print(\"Shape of ndarray: \", array1.shape)\n",
    "print(\"Shape of DeviceArray: \", array2.shape)"
   ]
  },
  {
   "cell_type": "markdown",
   "id": "3ab2e40b",
   "metadata": {
    "papermill": {
     "duration": 0.022697,
     "end_time": "2022-10-06T10:00:12.005542",
     "exception": false,
     "start_time": "2022-10-06T10:00:11.982845",
     "status": "completed"
    },
    "tags": []
   },
   "source": [
    "Now, let's do some computation on each array to see what happens and how much time does each computation take"
   ]
  },
  {
   "cell_type": "code",
   "execution_count": 13,
   "id": "96c4dae8",
   "metadata": {
    "execution": {
     "iopub.execute_input": "2022-10-06T10:00:12.103095Z",
     "iopub.status.busy": "2022-10-06T10:00:12.102430Z",
     "iopub.status.idle": "2022-10-06T10:00:18.051593Z",
     "shell.execute_reply": "2022-10-06T10:00:18.052214Z",
     "shell.execute_reply.started": "2022-10-06T09:52:30.933544Z"
    },
    "papermill": {
     "duration": 6.023335,
     "end_time": "2022-10-06T10:00:18.052406",
     "exception": false,
     "start_time": "2022-10-06T10:00:12.029071",
     "status": "completed"
    },
    "tags": []
   },
   "outputs": [
    {
     "name": "stdout",
     "output_type": "stream",
     "text": [
      "Time taken by dot product op on ndarrays: 5.98 seconds\n",
      "Time taken by dot product op on DeviceArrays: 0.01 seconds\n"
     ]
    }
   ],
   "source": [
    "# Dot product on ndarray\n",
    "start_time = time.time()\n",
    "res = np.dot(array1, array1)\n",
    "print(f\"Time taken by dot product op on ndarrays: {time.time()-start_time:.2f} seconds\")\n",
    "\n",
    "# Dot product on DeviceArray\n",
    "start_time = time.time()\n",
    "res = jnp.dot(array2, array2)\n",
    "print(f\"Time taken by dot product op on DeviceArrays: {time.time()-start_time:.2f} seconds\")"
   ]
  },
  {
   "cell_type": "markdown",
   "id": "1985c9d0",
   "metadata": {
    "papermill": {
     "duration": 0.067983,
     "end_time": "2022-10-06T10:00:18.169706",
     "exception": false,
     "start_time": "2022-10-06T10:00:18.101723",
     "status": "completed"
    },
    "tags": []
   },
   "source": [
    "Wow! Seems that the `DeviceArray` computation finished in no time. This is where you should remember this:\n",
    "1. Unlike the result of `ndarray`, the result of the computation done on DeviceArray isn't available yet. This is a **future** value that will be available on the accelerator \n",
    "2. You can retrieve the value of this computation by **printing** it or by converting it into a plain old numpy `ndarray`\n",
    "3. The above timing for DeviceArray is the time taken to **dispatch** the work, not the time taken for actual computation\n",
    "4. Asynchronous dispatch is useful since it allows Python code to “run ahead” of an accelerator device, keeping Python code out of the critical path. Provided the Python code enqueues work on the device faster than it can be executed, and that Python code does not actually need to inspect the output of a computation on the host, then a Python program can enqueue arbitrary amounts of work and avoid having the accelerator wait.\n",
    "5. To measure the true cost of any such operation:\n",
    "     - Either convert it to plain numpy ndarray (not preferred)\n",
    "     - Use `block_until_ready()` to wait for the computation that produced it to complete (preferred way for benchmarking)\n",
    "     \n",
    "Let's take a look at the above two methods again to measure the correct computation time"
   ]
  },
  {
   "cell_type": "code",
   "execution_count": 14,
   "id": "34f6a887",
   "metadata": {
    "execution": {
     "iopub.execute_input": "2022-10-06T10:00:18.241838Z",
     "iopub.status.busy": "2022-10-06T10:00:18.241202Z",
     "iopub.status.idle": "2022-10-06T10:00:30.053343Z",
     "shell.execute_reply": "2022-10-06T10:00:30.052791Z",
     "shell.execute_reply.started": "2022-10-06T09:54:08.012109Z"
    },
    "papermill": {
     "duration": 11.850578,
     "end_time": "2022-10-06T10:00:30.053449",
     "exception": false,
     "start_time": "2022-10-06T10:00:18.202871",
     "status": "completed"
    },
    "tags": []
   },
   "outputs": [
    {
     "name": "stdout",
     "output_type": "stream",
     "text": [
      "CPU times: user 45.7 s, sys: 178 ms, total: 45.8 s\n",
      "Wall time: 11.8 s\n"
     ]
    },
    {
     "data": {
      "text/plain": [
       "array([[1973.7642, 1957.4628, 1977.2909, ..., 1968.4293, 1975.3844,\n",
       "        1988.7894],\n",
       "       [2025.475 , 2023.9645, 2015.592 , ..., 2023.733 , 2002.3163,\n",
       "        2028.4009],\n",
       "       [2010.4509, 1999.3922, 2015.3254, ..., 2001.3368, 2002.6456,\n",
       "        1999.4705],\n",
       "       ...,\n",
       "       [1990.0709, 1980.6545, 2004.953 , ..., 2000.7068, 1989.4515,\n",
       "        1998.1526],\n",
       "       [2019.7246, 2013.85  , 2037.707 , ..., 2013.0159, 2011.6285,\n",
       "        2014.5178],\n",
       "       [2010.0378, 1999.1147, 2012.6888, ..., 2006.3755, 2002.0842,\n",
       "        2011.8866]], dtype=float32)"
      ]
     },
     "execution_count": 14,
     "metadata": {},
     "output_type": "execute_result"
    }
   ],
   "source": [
    "# First we will time it by converting the computation results to ndarray\n",
    "%time np.asarray(jnp.dot(array2, array2))"
   ]
  },
  {
   "cell_type": "code",
   "execution_count": 15,
   "id": "1dcb8c0b",
   "metadata": {
    "execution": {
     "iopub.execute_input": "2022-10-06T10:00:30.120353Z",
     "iopub.status.busy": "2022-10-06T10:00:30.119713Z",
     "iopub.status.idle": "2022-10-06T10:00:36.025616Z",
     "shell.execute_reply": "2022-10-06T10:00:36.024970Z",
     "shell.execute_reply.started": "2022-10-06T09:54:29.644028Z"
    },
    "papermill": {
     "duration": 5.938064,
     "end_time": "2022-10-06T10:00:36.025815",
     "exception": false,
     "start_time": "2022-10-06T10:00:30.087751",
     "status": "completed"
    },
    "tags": []
   },
   "outputs": [
    {
     "name": "stdout",
     "output_type": "stream",
     "text": [
      "CPU times: user 23.4 s, sys: 127 ms, total: 23.5 s\n",
      "Wall time: 5.9 s\n"
     ]
    },
    {
     "data": {
      "text/plain": [
       "DeviceArray([[1973.7642, 1957.4628, 1977.2909, ..., 1968.4293, 1975.3844,\n",
       "              1988.7894],\n",
       "             [2025.475 , 2023.9645, 2015.592 , ..., 2023.733 , 2002.3163,\n",
       "              2028.4009],\n",
       "             [2010.4509, 1999.3922, 2015.3254, ..., 2001.3368, 2002.6456,\n",
       "              1999.4705],\n",
       "             ...,\n",
       "             [1990.0709, 1980.6545, 2004.953 , ..., 2000.7068, 1989.4515,\n",
       "              1998.1526],\n",
       "             [2019.7246, 2013.85  , 2037.707 , ..., 2013.0159, 2011.6285,\n",
       "              2014.5178],\n",
       "             [2010.0378, 1999.1147, 2012.6888, ..., 2006.3755, 2002.0842,\n",
       "              2011.8866]], dtype=float32)"
      ]
     },
     "execution_count": 15,
     "metadata": {},
     "output_type": "execute_result"
    }
   ],
   "source": [
    "# Now let's time it using the blocking method\n",
    "%time jnp.dot(array2, array2).block_until_ready()"
   ]
  },
  {
   "cell_type": "code",
   "execution_count": 16,
   "id": "32b01704",
   "metadata": {
    "execution": {
     "iopub.execute_input": "2022-10-06T10:00:36.079186Z",
     "iopub.status.busy": "2022-10-06T10:00:36.078676Z",
     "iopub.status.idle": "2022-10-06T10:00:41.926383Z",
     "shell.execute_reply": "2022-10-06T10:00:41.925825Z",
     "shell.execute_reply.started": "2022-10-06T09:54:58.546324Z"
    },
    "papermill": {
     "duration": 5.875111,
     "end_time": "2022-10-06T10:00:41.926554",
     "exception": false,
     "start_time": "2022-10-06T10:00:36.051443",
     "status": "completed"
    },
    "tags": []
   },
   "outputs": [
    {
     "name": "stdout",
     "output_type": "stream",
     "text": [
      "CPU times: user 435 µs, sys: 0 ns, total: 435 µs\n",
      "Wall time: 422 µs\n"
     ]
    },
    {
     "data": {
      "text/plain": [
       "DeviceArray([[1973.7642, 1957.4628, 1977.2909, ..., 1968.4293, 1975.3844,\n",
       "              1988.7894],\n",
       "             [2025.475 , 2023.9645, 2015.592 , ..., 2023.733 , 2002.3163,\n",
       "              2028.4009],\n",
       "             [2010.4509, 1999.3922, 2015.3254, ..., 2001.3368, 2002.6456,\n",
       "              1999.4705],\n",
       "             ...,\n",
       "             [1990.0709, 1980.6545, 2004.953 , ..., 2000.7068, 1989.4515,\n",
       "              1998.1526],\n",
       "             [2019.7246, 2013.85  , 2037.707 , ..., 2013.0159, 2011.6285,\n",
       "              2014.5178],\n",
       "             [2010.0378, 1999.1147, 2012.6888, ..., 2006.3755, 2002.0842,\n",
       "              2011.8866]], dtype=float32)"
      ]
     },
     "execution_count": 16,
     "metadata": {},
     "output_type": "execute_result"
    }
   ],
   "source": [
    "%time jnp.dot(array2, array2)"
   ]
  },
  {
   "cell_type": "markdown",
   "id": "34633db9",
   "metadata": {
    "papermill": {
     "duration": 0.024516,
     "end_time": "2022-10-06T10:00:41.976043",
     "exception": false,
     "start_time": "2022-10-06T10:00:41.951527",
     "status": "completed"
    },
    "tags": []
   },
   "source": [
    "# Types promotion\n",
    "\n",
    "This is another aspect to keep in mind. `dtype` promotion in JAX is less aggressve as compared to numpy. A few things:\n",
    "1. JAX always prefers the precision of the JAX value when promoting a Python scalar\n",
    "2. JAX always prefers the type of the floating-point or complex type when promoting an integer or boolean type against floating or complex type\n",
    "3. JAX uses floating point promotion rules that are more suited to modern accelerator devices like GPUs/TPUs\n",
    "\n",
    "Let's take an example to see these in action"
   ]
  },
  {
   "cell_type": "code",
   "execution_count": 17,
   "id": "e0c4e3e1",
   "metadata": {
    "execution": {
     "iopub.execute_input": "2022-10-06T10:00:42.031058Z",
     "iopub.status.busy": "2022-10-06T10:00:42.030522Z",
     "iopub.status.idle": "2022-10-06T10:00:42.046905Z",
     "shell.execute_reply": "2022-10-06T10:00:42.047968Z",
     "shell.execute_reply.started": "2022-10-06T09:57:46.683739Z"
    },
    "papermill": {
     "duration": 0.047959,
     "end_time": "2022-10-06T10:00:42.048261",
     "exception": false,
     "start_time": "2022-10-06T10:00:42.000302",
     "status": "completed"
    },
    "tags": []
   },
   "outputs": [
    {
     "name": "stdout",
     "output_type": "stream",
     "text": [
      "Types promotion in numpy => int64\n",
      "Types promtoion in JAX => int8\n"
     ]
    }
   ],
   "source": [
    "print(\"Types promotion in numpy =>\", end=\" \")\n",
    "print((np.int8(32) + 4).dtype)\n",
    "\n",
    "print(\"Types promtoion in JAX =>\", end=\" \")\n",
    "print((jnp.int8(32) + 4).dtype)"
   ]
  },
  {
   "cell_type": "code",
   "execution_count": 18,
   "id": "663dbaab",
   "metadata": {
    "execution": {
     "iopub.execute_input": "2022-10-06T10:00:42.102039Z",
     "iopub.status.busy": "2022-10-06T10:00:42.101568Z",
     "iopub.status.idle": "2022-10-06T10:00:42.381060Z",
     "shell.execute_reply": "2022-10-06T10:00:42.380091Z",
     "shell.execute_reply.started": "2022-10-06T09:58:00.665818Z"
    },
    "papermill": {
     "duration": 0.30709,
     "end_time": "2022-10-06T10:00:42.381203",
     "exception": false,
     "start_time": "2022-10-06T10:00:42.074113",
     "status": "completed"
    },
    "tags": []
   },
   "outputs": [
    {
     "name": "stdout",
     "output_type": "stream",
     "text": [
      "Implicit numpy casting gives:  float64\n",
      "Implicit JAX casting gives:  float32\n"
     ]
    }
   ],
   "source": [
    "array1 = np.random.randint(5, size=(2), dtype=np.int32)\n",
    "print(\"Implicit numpy casting gives: \", (array1 + 5.0).dtype)\n",
    "\n",
    "# Check the difference in semantics of the above function in JAX\n",
    "array2 = jax.random.randint(jax.random.PRNGKey(0),\n",
    "                            minval=0,\n",
    "                            maxval=5,\n",
    "                            shape=[2],\n",
    "                            dtype=jnp.int32\n",
    "                           )\n",
    "print(\"Implicit JAX casting gives: \", (array2 + 5.0).dtype)"
   ]
  },
  {
   "cell_type": "markdown",
   "id": "105a63f5",
   "metadata": {
    "papermill": {
     "duration": 0.02542,
     "end_time": "2022-10-06T10:00:42.432461",
     "exception": false,
     "start_time": "2022-10-06T10:00:42.407041",
     "status": "completed"
    },
    "tags": []
   },
   "source": [
    "# Automatic Differentiation\n",
    "\n",
    "Automatic Differentiation is one of my favorite topics to cover. It is beautiful and demands a full tutorial. Similar to how we covered AD in depth in [TensorFlow tutorial](https://www.kaggle.com/aakashnain/tf-jax-tutorials-part3), we will cover it in-depth here in future tutorials. Here we will take a look at a simple example to see how tightly it is integrated into JAX."
   ]
  },
  {
   "cell_type": "code",
   "execution_count": 19,
   "id": "a3fad60e",
   "metadata": {
    "execution": {
     "iopub.execute_input": "2022-10-06T10:00:42.489604Z",
     "iopub.status.busy": "2022-10-06T10:00:42.489088Z",
     "iopub.status.idle": "2022-10-06T10:00:42.541169Z",
     "shell.execute_reply": "2022-10-06T10:00:42.540427Z",
     "shell.execute_reply.started": "2022-10-06T09:58:46.605670Z"
    },
    "papermill": {
     "duration": 0.082979,
     "end_time": "2022-10-06T10:00:42.541308",
     "exception": false,
     "start_time": "2022-10-06T10:00:42.458329",
     "status": "completed"
    },
    "tags": []
   },
   "outputs": [
    {
     "name": "stdout",
     "output_type": "stream",
     "text": [
      "First order gradients of y wrt x:  8.0\n",
      "Second order gradients of y wrt x:  2.0\n"
     ]
    }
   ],
   "source": [
    "def squared(x):\n",
    "    return x**2\n",
    "\n",
    "x = 4.0\n",
    "y = squared(x)\n",
    "\n",
    "dydx = jax.grad(squared)\n",
    "print(\"First order gradients of y wrt x: \", dydx(x))\n",
    "print(\"Second order gradients of y wrt x: \", jax.grad(dydx)(x))"
   ]
  },
  {
   "cell_type": "markdown",
   "id": "13c74902",
   "metadata": {
    "papermill": {
     "duration": 0.026266,
     "end_time": "2022-10-06T10:00:42.593845",
     "exception": false,
     "start_time": "2022-10-06T10:00:42.567579",
     "status": "completed"
    },
    "tags": []
   },
   "source": [
    "That's it for part 1! We will be looking at other things, especially the **`Automatic Differentiation`** in the next tutorial!<br>\n",
    "\n",
    "\n",
    "**References**:\n",
    "1. https://jax.readthedocs.io/en/latest/\n",
    "2. https://colinraffel.com/blog/you-don-t-know-jax.html\n",
    "3. https://flax.readthedocs.io/en/latest/notebooks/jax_for_the_impatient.html\n",
    "\n",
    "\n",
    "Let me know in the comments if you have any suggestions/queries"
   ]
  },
  {
   "cell_type": "code",
   "execution_count": null,
   "id": "ed83c915",
   "metadata": {
    "papermill": {
     "duration": 0.026045,
     "end_time": "2022-10-06T10:00:42.645892",
     "exception": false,
     "start_time": "2022-10-06T10:00:42.619847",
     "status": "completed"
    },
    "tags": []
   },
   "outputs": [],
   "source": []
  }
 ],
 "metadata": {
  "kernelspec": {
   "display_name": "Python 3",
   "language": "python",
   "name": "python3"
  },
  "language_info": {
   "codemirror_mode": {
    "name": "ipython",
    "version": 3
   },
   "file_extension": ".py",
   "mimetype": "text/x-python",
   "name": "python",
   "nbconvert_exporter": "python",
   "pygments_lexer": "ipython3",
   "version": "3.7.10"
  },
  "papermill": {
   "default_parameters": {},
   "duration": 44.993885,
   "end_time": "2022-10-06T10:00:44.121945",
   "environment_variables": {},
   "exception": null,
   "input_path": "__notebook__.ipynb",
   "output_path": "__notebook__.ipynb",
   "parameters": {},
   "start_time": "2022-10-06T09:59:59.128060",
   "version": "2.3.3"
  }
 },
 "nbformat": 4,
 "nbformat_minor": 5
}
