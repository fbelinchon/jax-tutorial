{
 "cells": [
  {
   "cell_type": "markdown",
   "id": "static-dryer",
   "metadata": {
    "papermill": {
     "duration": 0.017567,
     "end_time": "2022-10-05T13:37:43.513904",
     "exception": false,
     "start_time": "2022-10-05T13:37:43.496337",
     "status": "completed"
    },
    "tags": []
   },
   "source": [
    "**Update - 23rd Dec, 2021**\n",
    "\n",
    "We have completed the TF-JAX tutorials series. 10 notebooks that covers every fundamental aspect of both TensorFlow and JAX. Here are the links to the notebooks along with the Github repo details:\n",
    "\n",
    "### TensorFlow Notebooks:\n",
    "\n",
    "* [TF_JAX_Tutorials - Part 1](https://www.kaggle.com/aakashnain/tf-jax-tutorials-part1)\n",
    "* [TF_JAX_Tutorials - Part 2](https://www.kaggle.com/aakashnain/tf-jax-tutorials-part2)\n",
    "* [TF_JAX_Tutorials - Part 3](https://www.kaggle.com/aakashnain/tf-jax-tutorials-part3)\n",
    "\n",
    "### JAX Notebooks:\n",
    "\n",
    "* [TF_JAX_Tutorials - Part 4 (JAX and DeviceArray)](https://www.kaggle.com/aakashnain/tf-jax-tutorials-part-4-jax-and-devicearray)\n",
    "* [TF_JAX_Tutorials - Part 5 (Pure Functions in JAX)](https://www.kaggle.com/aakashnain/tf-jax-tutorials-part-5-pure-functions-in-jax/)\n",
    "* [TF_JAX_Tutorials - Part 6 (PRNG in JAX)](https://www.kaggle.com/aakashnain/tf-jax-tutorials-part-6-prng-in-jax/)\n",
    "* [TF_JAX_Tutorials - Part 7 (JIT in JAX)](https://www.kaggle.com/aakashnain/tf-jax-tutorials-part-7-jit-in-jax)\n",
    "* [TF_JAX_Tutorials - Part 8 (Vmap and Pmap)](https://www.kaggle.com/aakashnain/tf-jax-tutorials-part-8-vmap-pmap)\n",
    "* [TF_JAX_Tutorials - Part 9 (Autodiff in JAX)](https://www.kaggle.com/aakashnain/tf-jax-tutorials-part-9-autodiff-in-jax)\n",
    "* [TF_JAX_Tutorials - Part 10 (Pytrees in JAX)](https://www.kaggle.com/aakashnain/tf-jax-tutorials-part-10-pytrees-in-jax)\n",
    "\n",
    "### Github Repo with all notebooks in one place\n",
    "https://github.com/AakashKumarNain/TF_JAX_tutorials\n",
    "\n",
    "---\n",
    "\n",
    "<img src=\"https://i.ytimg.com/vi/yjprpOoH5c8/maxresdefault.jpg\" width=\"300\" height=\"300\" align=\"center\"/>\n",
    "\n",
    "Welcome to another TensorFlow/JAX tutorial. As I said in [Part1](https://www.kaggle.com/aakashnain/tf-jax-tutorials-part1), these tutorials are meant for everyone (from novice to advanced). This tutorial is in continuation of the last part. If you haven't gone through [TF-JAX Tutorials - Part1](https://www.kaggle.com/aakashnain/tf-jax-tutorials-part1), I highly recommend reading it before diving into this one. Let's start!\n",
    "\n",
    "\n",
    "**Reminder** These tutorials are in accordance with this format:\n",
    "1. TF Fundamentals (2-3 notebooks)\n",
    "2. JAX Fundamentals (2-3 notebooks)\n",
    "3. Advanced TF (2-3 notebooks)\n",
    "4. Advanced JAX (2-3 notebooks)"
   ]
  },
  {
   "cell_type": "code",
   "execution_count": 1,
   "id": "searching-berkeley",
   "metadata": {
    "_cell_guid": "b1076dfc-b9ad-4769-8c92-a6c4dae69d19",
    "_uuid": "8f2839f25d086af736a60e9eeb907d3b93b6e0e5",
    "execution": {
     "iopub.execute_input": "2022-10-05T13:37:43.552654Z",
     "iopub.status.busy": "2022-10-05T13:37:43.550867Z",
     "iopub.status.idle": "2022-10-05T13:37:50.616718Z",
     "shell.execute_reply": "2022-10-05T13:37:50.615772Z",
     "shell.execute_reply.started": "2022-10-05T13:24:29.291174Z"
    },
    "papermill": {
     "duration": 7.087214,
     "end_time": "2022-10-05T13:37:50.616925",
     "exception": false,
     "start_time": "2022-10-05T13:37:43.529711",
     "status": "completed"
    },
    "scrolled": true,
    "tags": []
   },
   "outputs": [],
   "source": [
    "import numpy as np\n",
    "import tensorflow as tf\n",
    "from tensorflow import keras\n",
    "from tensorflow.keras import layers\n",
    "\n",
    "seed=1234\n",
    "np.random.seed(seed)\n",
    "tf.random.set_seed(seed)\n",
    "%config IPCompleter.use_jedi = False"
   ]
  },
  {
   "cell_type": "markdown",
   "id": "featured-palestine",
   "metadata": {
    "papermill": {
     "duration": 0.015336,
     "end_time": "2022-10-05T13:37:50.648448",
     "exception": false,
     "start_time": "2022-10-05T13:37:50.633112",
     "status": "completed"
    },
    "tags": []
   },
   "source": [
    "In the last notebook, we read about the following:<br>\n",
    "1. Tensors\n",
    "2. Different ways of creating a tensor in TF\n",
    "3. Immutability in TF tensors\n",
    "4. Special operations like `tf.gather` and `tf.scatter`\n",
    "\n",
    "In this tutorial, we will be looking at another building block. \n",
    "\n",
    "## Variables\n",
    "\n",
    "A `Variable` is a \"special\" kind of tensor. It is used to represent or store the mutable state. A `tf.Variable` represents a tensor whose value can be changed by running ops on it. Think of a situation where you would use a `Variable` object? **Weights** of neural networks is one of the best examples of usages of Variables. \n",
    "\n",
    "We will first see how Variable objets are created, and then we will look into the properties and some of the gotchas"
   ]
  },
  {
   "cell_type": "markdown",
   "id": "affected-excerpt",
   "metadata": {
    "papermill": {
     "duration": 0.015032,
     "end_time": "2022-10-05T13:37:50.679018",
     "exception": false,
     "start_time": "2022-10-05T13:37:50.663986",
     "status": "completed"
    },
    "tags": []
   },
   "source": [
    "### Creating a Variable\n",
    "\n",
    "Good news! There is only one method that creates a `Variable` object: `tf.Variable(..)`"
   ]
  },
  {
   "cell_type": "code",
   "execution_count": 2,
   "id": "positive-cemetery",
   "metadata": {
    "execution": {
     "iopub.execute_input": "2022-10-05T13:37:50.719149Z",
     "iopub.status.busy": "2022-10-05T13:37:50.718354Z",
     "iopub.status.idle": "2022-10-05T13:37:50.759827Z",
     "shell.execute_reply": "2022-10-05T13:37:50.759218Z",
     "shell.execute_reply.started": "2022-10-05T13:24:57.788278Z"
    },
    "papermill": {
     "duration": 0.06251,
     "end_time": "2022-10-05T13:37:50.760046",
     "exception": false,
     "start_time": "2022-10-05T13:37:50.697536",
     "status": "completed"
    },
    "tags": []
   },
   "outputs": [
    {
     "data": {
      "text/plain": [
       "<tf.Variable 'Variable:0' shape=() dtype=int32, numpy=2>"
      ]
     },
     "execution_count": 2,
     "metadata": {},
     "output_type": "execute_result"
    }
   ],
   "source": [
    "# Variables with an integer value of 2 as initial value\n",
    "x = tf.Variable(2)\n",
    "x"
   ]
  },
  {
   "cell_type": "code",
   "execution_count": 3,
   "id": "undefined-monroe",
   "metadata": {
    "execution": {
     "iopub.execute_input": "2022-10-05T13:37:50.797134Z",
     "iopub.status.busy": "2022-10-05T13:37:50.796084Z",
     "iopub.status.idle": "2022-10-05T13:37:50.805481Z",
     "shell.execute_reply": "2022-10-05T13:37:50.806064Z",
     "shell.execute_reply.started": "2022-10-05T13:25:59.177895Z"
    },
    "papermill": {
     "duration": 0.029753,
     "end_time": "2022-10-05T13:37:50.806285",
     "exception": false,
     "start_time": "2022-10-05T13:37:50.776532",
     "status": "completed"
    },
    "tags": []
   },
   "outputs": [
    {
     "name": "stdout",
     "output_type": "stream",
     "text": [
      "(1, 2)\n"
     ]
    }
   ],
   "source": [
    "# Nested list as initial value\n",
    "y = tf.Variable([[2, 3]], dtype=tf.int32)\n",
    "y\n",
    "print(y.shape)"
   ]
  },
  {
   "cell_type": "code",
   "execution_count": 4,
   "id": "exciting-palmer",
   "metadata": {
    "execution": {
     "iopub.execute_input": "2022-10-05T13:37:50.843235Z",
     "iopub.status.busy": "2022-10-05T13:37:50.842486Z",
     "iopub.status.idle": "2022-10-05T13:37:50.851422Z",
     "shell.execute_reply": "2022-10-05T13:37:50.850391Z",
     "shell.execute_reply.started": "2022-10-05T13:26:06.152254Z"
    },
    "papermill": {
     "duration": 0.028621,
     "end_time": "2022-10-05T13:37:50.851673",
     "exception": false,
     "start_time": "2022-10-05T13:37:50.823052",
     "status": "completed"
    },
    "tags": []
   },
   "outputs": [
    {
     "name": "stdout",
     "output_type": "stream",
     "text": [
      "(2,)\n"
     ]
    }
   ],
   "source": [
    "# Tuples also work but beware it isn't the same as a nested list.\n",
    "# Check the difference between the current output and the previous cell output\n",
    "y = tf.Variable(((2, 3)), dtype=tf.int32)\n",
    "y\n",
    "print(y.shape)"
   ]
  },
  {
   "cell_type": "code",
   "execution_count": 5,
   "id": "infectious-nursing",
   "metadata": {
    "execution": {
     "iopub.execute_input": "2022-10-05T13:37:50.893267Z",
     "iopub.status.busy": "2022-10-05T13:37:50.892253Z",
     "iopub.status.idle": "2022-10-05T13:37:50.897223Z",
     "shell.execute_reply": "2022-10-05T13:37:50.897712Z",
     "shell.execute_reply.started": "2022-10-05T13:27:19.178408Z"
    },
    "papermill": {
     "duration": 0.028283,
     "end_time": "2022-10-05T13:37:50.897926",
     "exception": false,
     "start_time": "2022-10-05T13:37:50.869643",
     "status": "completed"
    },
    "tags": []
   },
   "outputs": [
    {
     "name": "stdout",
     "output_type": "stream",
     "text": [
      "(2,)\n"
     ]
    }
   ],
   "source": [
    "# You can even pass a tensor object as an initial value\n",
    "t = tf.constant([1, 2,], dtype=tf.int32)\n",
    "z = tf.Variable(t)\n",
    "z\n",
    "print(z.shape)"
   ]
  },
  {
   "cell_type": "code",
   "execution_count": 6,
   "id": "prerequisite-calcium",
   "metadata": {
    "execution": {
     "iopub.execute_input": "2022-10-05T13:37:50.941771Z",
     "iopub.status.busy": "2022-10-05T13:37:50.940990Z",
     "iopub.status.idle": "2022-10-05T13:37:50.965216Z",
     "shell.execute_reply": "2022-10-05T13:37:50.965800Z",
     "shell.execute_reply.started": "2022-10-05T13:29:13.348594Z"
    },
    "papermill": {
     "duration": 0.051364,
     "end_time": "2022-10-05T13:37:50.966058",
     "exception": false,
     "start_time": "2022-10-05T13:37:50.914694",
     "status": "completed"
    },
    "tags": []
   },
   "outputs": [
    {
     "name": "stdout",
     "output_type": "stream",
     "text": [
      "TypeError 'tensorflow.python.framework.ops.EagerTensor' object does not support item assignment\n",
      "TypeError 'ResourceVariable' object does not support item assignment\n",
      "\n",
      "Original variable:  <tf.Variable 'Variable:0' shape=(2,) dtype=int32, numpy=array([1, 2], dtype=int32)>\n",
      "Updated variable:  <tf.Variable 'Variable:0' shape=(2,) dtype=int32, numpy=array([5, 2], dtype=int32)>\n",
      "Updated variable:  <tf.Variable 'Variable:0' shape=(2,) dtype=int32, numpy=array([6, 6], dtype=int32)>\n"
     ]
    }
   ],
   "source": [
    "# An interesting thing to note. \n",
    "# You can't change the values of the tensor `t` in the above example\n",
    "# but you can change the values of the variable created using it\n",
    "\n",
    "# This won't work\n",
    "try:\n",
    "    t[0] = 1\n",
    "except Exception as ex:\n",
    "    print(type(ex).__name__, ex)\n",
    "    \n",
    "# This also won't work\n",
    "try:\n",
    "    z[0] = 10\n",
    "except Exception as ex:\n",
    "    print(type(ex).__name__, ex)\n",
    "    \n",
    "# This works though\n",
    "print(\"\\nOriginal variable: \", z)\n",
    "z[0].assign(5)\n",
    "print(\"Updated variable: \", z)\n",
    "z.assign([6,6])\n",
    "print(\"Updated variable: \", z)"
   ]
  },
  {
   "cell_type": "markdown",
   "id": "drawn-ground",
   "metadata": {
    "papermill": {
     "duration": 0.018007,
     "end_time": "2022-10-05T13:37:51.004267",
     "exception": false,
     "start_time": "2022-10-05T13:37:50.986260",
     "status": "completed"
    },
    "tags": []
   },
   "source": [
    "**A few things to note:**\n",
    "\n",
    "1. You can create a variable by passing an initial value which can be a `Tensor`, or Python object convertible to a `Tensor` \n",
    "2. The tensor object that you are passing is immutable but the variable created using it is mutable\n",
    "3. Variable is a `special` kind of tensor but the underlying data structure for both `tensors` and `variables` is `tf.Tensor`\n",
    "4. Since the data structure is the same, most of the properties for the two are same. We will take an example of this in a moment.\n",
    "5. Direct assignment (like z[0]=5) doesn't work with `tf.Variable` as well. For changing the values, you need to call the methods like `assign(...)`, `assign_add(...)` or `assign_sub(...)` \n",
    "6. Any Variable has the same lifecycle as any other Python object. When there are no references to a variable it is automatically deallocated."
   ]
  },
  {
   "cell_type": "code",
   "execution_count": 7,
   "id": "conventional-merit",
   "metadata": {
    "execution": {
     "iopub.execute_input": "2022-10-05T13:37:51.042965Z",
     "iopub.status.busy": "2022-10-05T13:37:51.042174Z",
     "iopub.status.idle": "2022-10-05T13:37:51.054035Z",
     "shell.execute_reply": "2022-10-05T13:37:51.054576Z",
     "shell.execute_reply.started": "2022-10-05T13:30:09.501194Z"
    },
    "papermill": {
     "duration": 0.033624,
     "end_time": "2022-10-05T13:37:51.054841",
     "exception": false,
     "start_time": "2022-10-05T13:37:51.021217",
     "status": "completed"
    },
    "tags": []
   },
   "outputs": [
    {
     "name": "stdout",
     "output_type": "stream",
     "text": [
      "Shape of variable : (2,)\n",
      "Another method to obtain the shape using `tf.shape(..)`: [2]\n",
      "dtype of the variable: <dtype: 'int32'>\n",
      "Total size of the variable: 2\n",
      "Values of the variable: [6 6]\n"
     ]
    }
   ],
   "source": [
    "# Most of the properties that we saw for tensors in part1 are the same for variables\n",
    "print(f\"Shape of variable : {z.shape}\")\n",
    "print(f\"Another method to obtain the shape using `tf.shape(..)`: {tf.shape(z)}\")\n",
    "\n",
    "print(f\"dtype of the variable: {z.dtype}\")\n",
    "print(f\"Total size of the variable: {tf.size(z)}\")\n",
    "print(f\"Values of the variable: {z.numpy()}\")"
   ]
  },
  {
   "cell_type": "code",
   "execution_count": 8,
   "id": "respiratory-resistance",
   "metadata": {
    "execution": {
     "iopub.execute_input": "2022-10-05T13:37:51.097365Z",
     "iopub.status.busy": "2022-10-05T13:37:51.096258Z",
     "iopub.status.idle": "2022-10-05T13:37:51.101945Z",
     "shell.execute_reply": "2022-10-05T13:37:51.101280Z",
     "shell.execute_reply.started": "2022-10-05T13:31:16.435135Z"
    },
    "papermill": {
     "duration": 0.02933,
     "end_time": "2022-10-05T13:37:51.102103",
     "exception": false,
     "start_time": "2022-10-05T13:37:51.072773",
     "status": "completed"
    },
    "tags": []
   },
   "outputs": [
    {
     "name": "stdout",
     "output_type": "stream",
     "text": [
      "AttributeError 'ResourceVariable' object has no attribute 'ndim'\n",
      "ndim for z= 1\n"
     ]
    }
   ],
   "source": [
    "#  This doesn't work though\n",
    "try:\n",
    "    print(f\"Rank: {z.ndim}\")\n",
    "except Exception as ex:\n",
    "    print(type(ex).__name__, ex)\n",
    "    \n",
    "# That does work\n",
    "print(f\"ndim for z= {z.numpy().ndim}\")"
   ]
  },
  {
   "cell_type": "code",
   "execution_count": 9,
   "id": "nominated-closer",
   "metadata": {
    "execution": {
     "iopub.execute_input": "2022-10-05T13:37:51.145575Z",
     "iopub.status.busy": "2022-10-05T13:37:51.144581Z",
     "iopub.status.idle": "2022-10-05T13:37:51.148838Z",
     "shell.execute_reply": "2022-10-05T13:37:51.148238Z",
     "shell.execute_reply.started": "2022-10-05T13:32:07.507397Z"
    },
    "papermill": {
     "duration": 0.028909,
     "end_time": "2022-10-05T13:37:51.149008",
     "exception": false,
     "start_time": "2022-10-05T13:37:51.120099",
     "status": "completed"
    },
    "tags": []
   },
   "outputs": [
    {
     "name": "stdout",
     "output_type": "stream",
     "text": [
      "Rank: [2] or like this (2,)\n"
     ]
    }
   ],
   "source": [
    "# Crap! How to find out the no of dimensions then?\n",
    "print(f\"Rank: {tf.shape(z)} or like this {z.shape}\")"
   ]
  },
  {
   "cell_type": "code",
   "execution_count": 10,
   "id": "increased-reminder",
   "metadata": {
    "execution": {
     "iopub.execute_input": "2022-10-05T13:37:51.191682Z",
     "iopub.status.busy": "2022-10-05T13:37:51.190673Z",
     "iopub.status.idle": "2022-10-05T13:37:51.210734Z",
     "shell.execute_reply": "2022-10-05T13:37:51.211750Z",
     "shell.execute_reply.started": "2022-10-05T13:32:30.279296Z"
    },
    "papermill": {
     "duration": 0.043576,
     "end_time": "2022-10-05T13:37:51.212043",
     "exception": false,
     "start_time": "2022-10-05T13:37:51.168467",
     "status": "completed"
    },
    "tags": []
   },
   "outputs": [
    {
     "name": "stdout",
     "output_type": "stream",
     "text": [
      "Tensor t:  tf.Tensor([1 2], shape=(2,), dtype=int32)\n",
      "Variable z:  <tf.Variable 'Variable:0' shape=(2,) dtype=int32, numpy=array([1, 2], dtype=int32)>\n",
      "\n",
      "This works:  tf.Tensor([6 7], shape=(2,), dtype=int32)\n",
      "So does this:  tf.Tensor([6 7], shape=(2,), dtype=int32)\n",
      "Another example just for demonstration: [ 5 10], [ 5 10]\n"
     ]
    }
   ],
   "source": [
    "# Whatever operator overloading is available for a Tensor, is also available for a Variable\n",
    "# We have a tensor `t` and a varibale `z`. \n",
    "\n",
    "t = tf.constant([1, 2,], dtype=tf.int32)\n",
    "z = tf.Variable(t)\n",
    "print(\"Tensor t: \", t)\n",
    "print(\"Variable z: \", z)\n",
    "\n",
    "print(\"\\nThis works: \", (t+5))\n",
    "print(\"So does this: \", (z +5))\n",
    "\n",
    "print(f\"Another example just for demonstration: {(t*5).numpy()}, {(z*5).numpy()}\")"
   ]
  },
  {
   "cell_type": "code",
   "execution_count": 11,
   "id": "judicial-eligibility",
   "metadata": {
    "execution": {
     "iopub.execute_input": "2022-10-05T13:37:51.255160Z",
     "iopub.status.busy": "2022-10-05T13:37:51.254368Z",
     "iopub.status.idle": "2022-10-05T13:37:51.269751Z",
     "shell.execute_reply": "2022-10-05T13:37:51.269122Z",
     "shell.execute_reply.started": "2022-10-05T13:33:15.061066Z"
    },
    "papermill": {
     "duration": 0.037755,
     "end_time": "2022-10-05T13:37:51.269933",
     "exception": false,
     "start_time": "2022-10-05T13:37:51.232178",
     "status": "completed"
    },
    "tags": []
   },
   "outputs": [
    {
     "data": {
      "text/plain": [
       "<tf.Tensor: shape=(1,), dtype=int32, numpy=array([1], dtype=int32)>"
      ]
     },
     "execution_count": 11,
     "metadata": {},
     "output_type": "execute_result"
    }
   ],
   "source": [
    "# Gather works as well\n",
    "tf.gather(z, indices=[0])"
   ]
  },
  {
   "cell_type": "code",
   "execution_count": 12,
   "id": "infinite-electronics",
   "metadata": {
    "execution": {
     "iopub.execute_input": "2022-10-05T13:37:51.312905Z",
     "iopub.status.busy": "2022-10-05T13:37:51.312147Z",
     "iopub.status.idle": "2022-10-05T13:37:51.319086Z",
     "shell.execute_reply": "2022-10-05T13:37:51.319562Z",
     "shell.execute_reply.started": "2022-10-05T13:33:29.424813Z"
    },
    "papermill": {
     "duration": 0.030309,
     "end_time": "2022-10-05T13:37:51.319801",
     "exception": false,
     "start_time": "2022-10-05T13:37:51.289492",
     "status": "completed"
    },
    "tags": []
   },
   "outputs": [
    {
     "name": "stdout",
     "output_type": "stream",
     "text": [
      "Is variable z trainable?  True\n",
      "AttributeError 'tensorflow.python.framework.ops.EagerTensor' object has no attribute 'trainable'\n"
     ]
    }
   ],
   "source": [
    "# Here is another interesting difference between the properties of \n",
    "# a tensor and a variable\n",
    "\n",
    "try:\n",
    "    print(\"Is variable z trainable? \", z.trainable)\n",
    "    print(\"Is tensor t trainable? \", t.trainable)\n",
    "except Exception as ex:\n",
    "    print(type(ex).__name__, ex)"
   ]
  },
  {
   "cell_type": "markdown",
   "id": "responsible-sight",
   "metadata": {
    "papermill": {
     "duration": 0.019453,
     "end_time": "2022-10-05T13:37:51.358769",
     "exception": false,
     "start_time": "2022-10-05T13:37:51.339316",
     "status": "completed"
    },
    "tags": []
   },
   "source": [
    "Let's talk about a bit why `trainable` is an interesting property when it comes to a Variable object.\n",
    "1. Any variable is tracked by Gradient tape (if it's in the scope) automatically unless it isn't trainable\n",
    "2. Any variable that is defined within the scope of a class that inherits `tf.Module` is tracked automatically and can be collected via the `trainable_variables`, `variables`, or `submodule` property (More on this in the future notebooks)\n",
    "3. Sometimes we don't want the gradients for a certain Variable. In that case, we can turn off the tracking by setting `trainable=False`. One example for this can be a counter"
   ]
  },
  {
   "cell_type": "code",
   "execution_count": 13,
   "id": "laughing-commons",
   "metadata": {
    "execution": {
     "iopub.execute_input": "2022-10-05T13:37:51.400885Z",
     "iopub.status.busy": "2022-10-05T13:37:51.400132Z",
     "iopub.status.idle": "2022-10-05T13:37:51.413204Z",
     "shell.execute_reply": "2022-10-05T13:37:51.413842Z",
     "shell.execute_reply.started": "2022-10-05T13:35:21.539966Z"
    },
    "papermill": {
     "duration": 0.036115,
     "end_time": "2022-10-05T13:37:51.414078",
     "exception": false,
     "start_time": "2022-10-05T13:37:51.377963",
     "status": "completed"
    },
    "tags": []
   },
   "outputs": [
    {
     "name": "stdout",
     "output_type": "stream",
     "text": [
      "['x:0', 'z:0']\n"
     ]
    }
   ],
   "source": [
    "x = tf.Variable(2.0, name=\"x\")\n",
    "y = tf.Variable(4.0, trainable=False, name=\"y\")\n",
    "z = tf.Variable(6.0, name=\"z\")\n",
    "\n",
    "with tf.GradientTape() as tape:\n",
    "    x = x + 2\n",
    "    y = y + 5\n",
    "    z = 2*z*z\n",
    "\n",
    "print([variable.name for variable in tape.watched_variables()])"
   ]
  },
  {
   "cell_type": "markdown",
   "id": "relevant-collector",
   "metadata": {
    "papermill": {
     "duration": 0.019987,
     "end_time": "2022-10-05T13:37:51.453916",
     "exception": false,
     "start_time": "2022-10-05T13:37:51.433929",
     "status": "completed"
    },
    "tags": []
   },
   "source": [
    "The biggest advantage with a variable is that the memory can be reused. You can modify the values without creating a new one, though there are certain things to keep in mind. Check this out"
   ]
  },
  {
   "cell_type": "code",
   "execution_count": 14,
   "id": "aquatic-ending",
   "metadata": {
    "execution": {
     "iopub.execute_input": "2022-10-05T13:37:51.497124Z",
     "iopub.status.busy": "2022-10-05T13:37:51.496338Z",
     "iopub.status.idle": "2022-10-05T13:37:51.512894Z",
     "shell.execute_reply": "2022-10-05T13:37:51.513429Z",
     "shell.execute_reply.started": "2022-10-05T13:35:48.322419Z"
    },
    "papermill": {
     "duration": 0.04026,
     "end_time": "2022-10-05T13:37:51.513664",
     "exception": false,
     "start_time": "2022-10-05T13:37:51.473404",
     "status": "completed"
    },
    "tags": []
   },
   "outputs": [
    {
     "name": "stdout",
     "output_type": "stream",
     "text": [
      "Variable z:0:  <tf.Variable 'z:0' shape=(2,) dtype=int32, numpy=array([1, 2], dtype=int32)>\n",
      "\n",
      "Oh dear...what have you done!\n",
      "TypeError Cannot convert [1.0, 2.0] to EagerTensor of dtype int32\n",
      "\n",
      "Are you thinking clearly?\n",
      "ValueError Cannot assign to variable z:0 due to variable shape (2,) and value shape (3,) are incompatible\n",
      "\n",
      "Original Variable x:  <tf.Variable 'x:0' shape=<unknown> dtype=int32, numpy=5>\n",
      "Modified Variable x:  <tf.Variable 'x:0' shape=<unknown> dtype=int32, numpy=array([1, 2, 3], dtype=int32)>\n",
      "\n",
      "This works!!\n",
      "Variable value modified with a diff shape:  <tf.Variable 'x:0' shape=<unknown> dtype=int32, numpy=\n",
      "array([[1, 2, 3],\n",
      "       [4, 5, 6]], dtype=int32)>\n"
     ]
    }
   ],
   "source": [
    "# Create a variable instance\n",
    "z = tf.Variable([1, 2], dtype=tf.int32, name=\"z\")\n",
    "print(f\"Variable {z.name}: \", z)\n",
    "\n",
    "# Can we change the dtype while changing the values?\n",
    "try:\n",
    "    z.assign([1.0, 2.0])\n",
    "except Exception as ex:\n",
    "    print(\"\\nOh dear...what have you done!\")\n",
    "    print(type(ex).__name__, ex)\n",
    "    \n",
    "# Can we change the shape while assigning a new value?\n",
    "try:\n",
    "    z.assign([1, 2, 3])\n",
    "except Exception as ex:\n",
    "    print(\"\\nAre you thinking clearly?\")\n",
    "    print(type(ex).__name__, ex)\n",
    "    \n",
    "# A way to create variable with an arbitrary shape\n",
    "x = tf.Variable(5, dtype=tf.int32, shape=tf.TensorShape(None), name=\"x\")\n",
    "print(\"\\nOriginal Variable x: \", x)\n",
    "\n",
    "# Assign a proper value with a defined shape\n",
    "x.assign([1, 2, 3])\n",
    "print(\"Modified Variable x: \", x)\n",
    "\n",
    "# Try assigning a value with a diff shape now.\n",
    "try:\n",
    "    x.assign([[1, 2, 3], [4, 5, 6]])\n",
    "    print(\"\\nThis works!!\")\n",
    "    print(\"Variable value modified with a diff shape: \", x)\n",
    "except Exception as ex:\n",
    "    print(\"\\nDid you forget what we just learned?\")\n",
    "    print(type(ex).__name__, ex)"
   ]
  },
  {
   "cell_type": "markdown",
   "id": "crazy-enzyme",
   "metadata": {
    "papermill": {
     "duration": 0.020458,
     "end_time": "2022-10-05T13:37:51.554309",
     "exception": false,
     "start_time": "2022-10-05T13:37:51.533851",
     "status": "completed"
    },
    "tags": []
   },
   "source": [
    "That's it for part 2! I hope you enjoyed reading it. We will be looking at other things k like `GradientTape` in the next tutorial!<br>\n",
    "\n",
    "**References**:\n",
    "1. https://www.tensorflow.org/guide/variable\n",
    "2. https://keras.io/getting_started/intro_to_keras_for_researchers/\n",
    "\n",
    "\n",
    "Update:\n",
    "\n",
    "[TF_JAX_Tutorials - Part 3](https://www.kaggle.com/aakashnain/tf-jax-tutorials-part3)<br>\n",
    "[TF_JAX_Tutorials - Part 4 (JAX and DeviceArray)](https://www.kaggle.com/aakashnain/tf-jax-tutorials-part-4-jax-and-devicearray/)<br>\n",
    "[TF_JAX_Tutorials - Part 5 (Pure Functions)](https://www.kaggle.com/aakashnain/tf-jax-tutorials-part-5-pure-functions-in-jax)"
   ]
  },
  {
   "cell_type": "code",
   "execution_count": null,
   "id": "automatic-welding",
   "metadata": {
    "papermill": {
     "duration": 0.019746,
     "end_time": "2022-10-05T13:37:51.594465",
     "exception": false,
     "start_time": "2022-10-05T13:37:51.574719",
     "status": "completed"
    },
    "tags": []
   },
   "outputs": [],
   "source": []
  }
 ],
 "metadata": {
  "kernelspec": {
   "display_name": "Python 3",
   "language": "python",
   "name": "python3"
  },
  "language_info": {
   "codemirror_mode": {
    "name": "ipython",
    "version": 3
   },
   "file_extension": ".py",
   "mimetype": "text/x-python",
   "name": "python",
   "nbconvert_exporter": "python",
   "pygments_lexer": "ipython3",
   "version": "3.7.10"
  },
  "papermill": {
   "default_parameters": {},
   "duration": 18.981358,
   "end_time": "2022-10-05T13:37:53.554863",
   "environment_variables": {},
   "exception": null,
   "input_path": "__notebook__.ipynb",
   "output_path": "__notebook__.ipynb",
   "parameters": {},
   "start_time": "2022-10-05T13:37:34.573505",
   "version": "2.3.3"
  }
 },
 "nbformat": 4,
 "nbformat_minor": 5
}
