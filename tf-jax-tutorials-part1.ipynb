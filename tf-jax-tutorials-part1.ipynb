{
 "cells": [
  {
   "cell_type": "markdown",
   "id": "continental-russia",
   "metadata": {
    "papermill": {
     "duration": 0.030774,
     "end_time": "2022-10-05T11:09:18.128729",
     "exception": false,
     "start_time": "2022-10-05T11:09:18.097955",
     "status": "completed"
    },
    "tags": []
   },
   "source": [
    "**Update - 23rd Dec, 2021**\n",
    "\n",
    "We have completed the TF-JAX tutorials series. 10 notebooks that covers every fundamental aspect of both TensorFlow and JAX. Here are the links to the notebooks along with the Github repo details:\n",
    "\n",
    "### TensorFlow Notebooks:\n",
    "\n",
    "* [TF_JAX_Tutorials - Part 1](https://www.kaggle.com/aakashnain/tf-jax-tutorials-part1)\n",
    "* [TF_JAX_Tutorials - Part 2](https://www.kaggle.com/aakashnain/tf-jax-tutorials-part2)\n",
    "* [TF_JAX_Tutorials - Part 3](https://www.kaggle.com/aakashnain/tf-jax-tutorials-part3)\n",
    "\n",
    "### JAX Notebooks:\n",
    "\n",
    "* [TF_JAX_Tutorials - Part 4 (JAX and DeviceArray)](https://www.kaggle.com/aakashnain/tf-jax-tutorials-part-4-jax-and-devicearray)\n",
    "* [TF_JAX_Tutorials - Part 5 (Pure Functions in JAX)](https://www.kaggle.com/aakashnain/tf-jax-tutorials-part-5-pure-functions-in-jax/)\n",
    "* [TF_JAX_Tutorials - Part 6 (PRNG in JAX)](https://www.kaggle.com/aakashnain/tf-jax-tutorials-part-6-prng-in-jax/)\n",
    "* [TF_JAX_Tutorials - Part 7 (JIT in JAX)](https://www.kaggle.com/aakashnain/tf-jax-tutorials-part-7-jit-in-jax)\n",
    "* [TF_JAX_Tutorials - Part 8 (Vmap and Pmap)](https://www.kaggle.com/aakashnain/tf-jax-tutorials-part-8-vmap-pmap)\n",
    "* [TF_JAX_Tutorials - Part 9 (Autodiff in JAX)](https://www.kaggle.com/aakashnain/tf-jax-tutorials-part-9-autodiff-in-jax)\n",
    "* [TF_JAX_Tutorials - Part 10 (Pytrees in JAX)](https://www.kaggle.com/aakashnain/tf-jax-tutorials-part-10-pytrees-in-jax)\n",
    "\n",
    "### Github Repo with all notebooks in one place\n",
    "https://github.com/AakashKumarNain/TF_JAX_tutorials\n",
    "\n",
    "\n",
    "---\n",
    "\n",
    "\n",
    "\n",
    "<img src=\"https://i.ytimg.com/vi/yjprpOoH5c8/maxresdefault.jpg\" width=\"300\" height=\"300\" align=\"center\"/>\n",
    "\n",
    "Welcome to the TensorFlow/JAX tutorials. These tutorials are meant for everyone (from novice to advanced). We will start from the very basics. No rush!\n",
    "These tutorials are meant to improve your understanding of the two frameworks TensorFlow and JAX. We will start with TensorFlow and will cover JAX side-by-side. This isn't typically a documentation-type tutorial, and these aren't meant to be the replacement. These are meant to give you insights with minimal effort. Sit tight and let's start!\n",
    "\n",
    "**Note** The tutorials will be following this format:\n",
    "1. TF Fundamentals (2-3 notebooks)\n",
    "2. JAX Fundamentals (2-3 notebooks)\n",
    "3. Advanced TF (2-3 notebooks)\n",
    "4. Advanced JAX (2-3 notebooks)"
   ]
  },
  {
   "cell_type": "code",
   "execution_count": 1,
   "id": "prescription-joseph",
   "metadata": {
    "_cell_guid": "b1076dfc-b9ad-4769-8c92-a6c4dae69d19",
    "_uuid": "8f2839f25d086af736a60e9eeb907d3b93b6e0e5",
    "execution": {
     "iopub.execute_input": "2022-10-05T11:09:18.206015Z",
     "iopub.status.busy": "2022-10-05T11:09:18.205002Z",
     "iopub.status.idle": "2022-10-05T11:09:24.798681Z",
     "shell.execute_reply": "2022-10-05T11:09:24.797798Z",
     "shell.execute_reply.started": "2022-10-05T10:04:33.010505Z"
    },
    "papermill": {
     "duration": 6.634931,
     "end_time": "2022-10-05T11:09:24.798897",
     "exception": false,
     "start_time": "2022-10-05T11:09:18.163966",
     "status": "completed"
    },
    "scrolled": true,
    "tags": []
   },
   "outputs": [],
   "source": [
    "import numpy as np\n",
    "import tensorflow as tf\n",
    "from tensorflow import keras\n",
    "from tensorflow.keras import layers\n",
    "\n",
    "seed=1234\n",
    "np.random.seed(seed)\n",
    "tf.random.set_seed(seed)\n",
    "%config IPCompleter.use_jedi = False"
   ]
  },
  {
   "cell_type": "markdown",
   "id": "painful-nature",
   "metadata": {
    "papermill": {
     "duration": 0.025664,
     "end_time": "2022-10-05T11:09:24.850005",
     "exception": false,
     "start_time": "2022-10-05T11:09:24.824341",
     "status": "completed"
    },
    "tags": []
   },
   "source": [
    "## Tensors\n",
    "\n",
    "What is a `Tensor` anyway?<br>\n",
    "Although the meaning of `Tensor` is much diverse than what we typically use in ML, whenever we say `tensor` in ML, we mean that it is a **`multi-dimensional array`** where all the values have a uniform `dtype`. There are many ways to create a TF tensor. We will take a look at a few of them, a few important ones."
   ]
  },
  {
   "cell_type": "markdown",
   "id": "lightweight-postcard",
   "metadata": {
    "papermill": {
     "duration": 0.02516,
     "end_time": "2022-10-05T11:09:24.900472",
     "exception": false,
     "start_time": "2022-10-05T11:09:24.875312",
     "status": "completed"
    },
    "tags": []
   },
   "source": [
    "`tf.constant(..)`: This is the simplest way yet with some `gotchas` to create a tensor object. First, let's try to create a tensor with it, and then we will look at the gotchas later on."
   ]
  },
  {
   "cell_type": "code",
   "execution_count": 2,
   "id": "alien-catalyst",
   "metadata": {
    "execution": {
     "iopub.execute_input": "2022-10-05T11:09:24.966792Z",
     "iopub.status.busy": "2022-10-05T11:09:24.966058Z",
     "iopub.status.idle": "2022-10-05T11:09:24.974074Z",
     "shell.execute_reply": "2022-10-05T11:09:24.974567Z",
     "shell.execute_reply.started": "2022-10-03T11:39:20.214358Z"
    },
    "papermill": {
     "duration": 0.048834,
     "end_time": "2022-10-05T11:09:24.974765",
     "exception": false,
     "start_time": "2022-10-05T11:09:24.925931",
     "status": "completed"
    },
    "tags": []
   },
   "outputs": [
    {
     "name": "stdout",
     "output_type": "stream",
     "text": [
      "tf.Tensor(5.0, shape=(), dtype=float32)\n"
     ]
    }
   ],
   "source": [
    "# A zero rank tensor. A zero rank tensor is nothing but a single value\n",
    "x = tf.constant(5.0)\n",
    "print(x)\n"
   ]
  },
  {
   "cell_type": "markdown",
   "id": "aging-david",
   "metadata": {
    "papermill": {
     "duration": 0.025759,
     "end_time": "2022-10-05T11:09:25.029147",
     "exception": false,
     "start_time": "2022-10-05T11:09:25.003388",
     "status": "completed"
    },
    "tags": []
   },
   "source": [
    "As you can see above, that the tensor object has a `shape` and a `dtype`. There are other attributes/properties as well that are associated with a tensor object. \n",
    "\n",
    "\n",
    "1. Shape: The length (number of elements) of each of the axes of a tensor.\n",
    "2. Rank: Number of axes. For example, a matrix is a tensor of rank 2.\n",
    "3. Axis or Dimension: A particular dimension of a tensor.\n",
    "4. Size: The total number of items in the tensor."
   ]
  },
  {
   "cell_type": "code",
   "execution_count": 3,
   "id": "pressing-violin",
   "metadata": {
    "execution": {
     "iopub.execute_input": "2022-10-05T11:09:25.084470Z",
     "iopub.status.busy": "2022-10-05T11:09:25.083754Z",
     "iopub.status.idle": "2022-10-05T11:09:25.108236Z",
     "shell.execute_reply": "2022-10-05T11:09:25.107376Z",
     "shell.execute_reply.started": "2022-10-03T11:41:20.613523Z"
    },
    "papermill": {
     "duration": 0.052964,
     "end_time": "2022-10-05T11:09:25.108444",
     "exception": false,
     "start_time": "2022-10-05T11:09:25.055480",
     "status": "completed"
    },
    "tags": []
   },
   "outputs": [
    {
     "name": "stdout",
     "output_type": "stream",
     "text": [
      "`y` is now a <class 'numpy.ndarray'> object and have a value == [1 2 3]\n"
     ]
    }
   ],
   "source": [
    "# We can convert any tensor object to `ndarray` by calling the `numpy()` method\n",
    "y = tf.constant([1, 2, 3], dtype=tf.int8).numpy()\n",
    "print(f\"`y` is now a {type(y)} object and have a value == {y}\")"
   ]
  },
  {
   "cell_type": "code",
   "execution_count": 4,
   "id": "geographic-revelation",
   "metadata": {
    "execution": {
     "iopub.execute_input": "2022-10-05T11:09:25.170443Z",
     "iopub.status.busy": "2022-10-05T11:09:25.169460Z",
     "iopub.status.idle": "2022-10-05T11:09:25.173675Z",
     "shell.execute_reply": "2022-10-05T11:09:25.174203Z",
     "shell.execute_reply.started": "2022-10-03T11:43:41.046479Z"
    },
    "papermill": {
     "duration": 0.039395,
     "end_time": "2022-10-05T11:09:25.174398",
     "exception": false,
     "start_time": "2022-10-05T11:09:25.135003",
     "status": "completed"
    },
    "tags": []
   },
   "outputs": [
    {
     "data": {
      "text/plain": [
       "(tf.int8, TensorShape([2, 3]))"
      ]
     },
     "execution_count": 4,
     "metadata": {},
     "output_type": "execute_result"
    }
   ],
   "source": [
    "y = tf.constant([[1, 2, 3],[5,6,7]], dtype=tf.int8)\n",
    "y.dtype,y.shape"
   ]
  },
  {
   "cell_type": "code",
   "execution_count": 5,
   "id": "global-joint",
   "metadata": {
    "execution": {
     "iopub.execute_input": "2022-10-05T11:09:25.231789Z",
     "iopub.status.busy": "2022-10-05T11:09:25.230463Z",
     "iopub.status.idle": "2022-10-05T11:09:25.237472Z",
     "shell.execute_reply": "2022-10-05T11:09:25.238078Z",
     "shell.execute_reply.started": "2022-10-03T11:44:29.673404Z"
    },
    "papermill": {
     "duration": 0.03775,
     "end_time": "2022-10-05T11:09:25.238271",
     "exception": false,
     "start_time": "2022-10-05T11:09:25.200521",
     "status": "completed"
    },
    "tags": []
   },
   "outputs": [
    {
     "data": {
      "text/plain": [
       "array([[1, 2, 3],\n",
       "       [5, 6, 7]], dtype=int8)"
      ]
     },
     "execution_count": 5,
     "metadata": {},
     "output_type": "execute_result"
    }
   ],
   "source": [
    "y.numpy()"
   ]
  },
  {
   "cell_type": "markdown",
   "id": "ideal-manner",
   "metadata": {
    "papermill": {
     "duration": 0.026992,
     "end_time": "2022-10-05T11:09:25.294078",
     "exception": false,
     "start_time": "2022-10-05T11:09:25.267086",
     "status": "completed"
    },
    "tags": []
   },
   "source": [
    "**A few important things along with some gotchas**<br>\n",
    "1. People confuse `tf.constant(..)` with an operation that creates a `constant` tensor. There is no such relation. This is related to how we embed a node in a `tf.Graph`\n",
    "2. Any tensor in TensorFlow is **immutable** by default i.e. you cannot change the values of a tensor once created. You always create a new one. This is different from `numpy` and `pytorch` where you can actually modify the values. We will see an example on this in a bit\n",
    "3. One of the closest member to `tf.constant` is the `tf.convert_to_tensor()` method with a few difference which we will see later on\n",
    "4. `tf.constant(..)` is just one of the many ways to create a tensor. There are many other methods as well"
   ]
  },
  {
   "cell_type": "code",
   "execution_count": 6,
   "id": "minute-production",
   "metadata": {
    "execution": {
     "iopub.execute_input": "2022-10-05T11:09:25.352906Z",
     "iopub.status.busy": "2022-10-05T11:09:25.351903Z",
     "iopub.status.idle": "2022-10-05T11:09:25.359629Z",
     "shell.execute_reply": "2022-10-05T11:09:25.358952Z",
     "shell.execute_reply.started": "2022-10-03T11:45:31.001928Z"
    },
    "papermill": {
     "duration": 0.038888,
     "end_time": "2022-10-05T11:09:25.359785",
     "exception": false,
     "start_time": "2022-10-05T11:09:25.320897",
     "status": "completed"
    },
    "tags": []
   },
   "outputs": [
    {
     "name": "stdout",
     "output_type": "stream",
     "text": [
      "TypeError 'tensorflow.python.framework.ops.EagerTensor' object does not support item assignment\n"
     ]
    }
   ],
   "source": [
    "# Immutability check\n",
    "\n",
    "# Rank-1 tensor\n",
    "x = tf.constant([1, 2], dtype=tf.int8)\n",
    "\n",
    "# Try to modify the values\n",
    "try:\n",
    "    x[1] = 3\n",
    "except Exception as ex:\n",
    "    print(type(ex).__name__, ex)"
   ]
  },
  {
   "cell_type": "code",
   "execution_count": 7,
   "id": "recognized-lotus",
   "metadata": {
    "execution": {
     "iopub.execute_input": "2022-10-05T11:09:25.423267Z",
     "iopub.status.busy": "2022-10-05T11:09:25.422551Z",
     "iopub.status.idle": "2022-10-05T11:09:25.432185Z",
     "shell.execute_reply": "2022-10-05T11:09:25.432868Z",
     "shell.execute_reply.started": "2022-10-03T11:46:11.198234Z"
    },
    "papermill": {
     "duration": 0.044754,
     "end_time": "2022-10-05T11:09:25.433090",
     "exception": false,
     "start_time": "2022-10-05T11:09:25.388336",
     "status": "completed"
    },
    "tags": []
   },
   "outputs": [
    {
     "name": "stdout",
     "output_type": "stream",
     "text": [
      "tf.Tensor([1 1], shape=(2,), dtype=int8)\n",
      "\n",
      " TypeError 'tensorflow.python.framework.ops.EagerTensor' object does not support item assignment\n"
     ]
    }
   ],
   "source": [
    "# tf.constant(..) is no special. Let's create a tensor using a diff method\n",
    "x = tf.ones(2, dtype=tf.int8)\n",
    "print(x)\n",
    "\n",
    "try:\n",
    "    x[0] = 3\n",
    "except Exception as ex:\n",
    "    print(\"\\n\", type(ex).__name__, ex)"
   ]
  },
  {
   "cell_type": "code",
   "execution_count": 8,
   "id": "cardiovascular-patio",
   "metadata": {
    "execution": {
     "iopub.execute_input": "2022-10-05T11:09:25.495974Z",
     "iopub.status.busy": "2022-10-05T11:09:25.495189Z",
     "iopub.status.idle": "2022-10-05T11:09:25.498561Z",
     "shell.execute_reply": "2022-10-05T11:09:25.499372Z",
     "shell.execute_reply.started": "2022-10-03T11:46:57.320274Z"
    },
    "papermill": {
     "duration": 0.038366,
     "end_time": "2022-10-05T11:09:25.499631",
     "exception": false,
     "start_time": "2022-10-05T11:09:25.461265",
     "status": "completed"
    },
    "tags": []
   },
   "outputs": [
    {
     "name": "stdout",
     "output_type": "stream",
     "text": [
      "tf.Tensor(\n",
      "[[1 1 1 1]\n",
      " [1 1 1 1]], shape=(2, 4), dtype=int8)\n"
     ]
    }
   ],
   "source": [
    "x = tf.ones((2,4),dtype=tf.int8)\n",
    "print(x)"
   ]
  },
  {
   "cell_type": "code",
   "execution_count": 9,
   "id": "light-luxury",
   "metadata": {
    "execution": {
     "iopub.execute_input": "2022-10-05T11:09:25.560259Z",
     "iopub.status.busy": "2022-10-05T11:09:25.559459Z",
     "iopub.status.idle": "2022-10-05T11:09:25.570818Z",
     "shell.execute_reply": "2022-10-05T11:09:25.571438Z",
     "shell.execute_reply.started": "2022-10-03T11:47:19.169667Z"
    },
    "papermill": {
     "duration": 0.043201,
     "end_time": "2022-10-05T11:09:25.571636",
     "exception": false,
     "start_time": "2022-10-05T11:09:25.528435",
     "status": "completed"
    },
    "tags": []
   },
   "outputs": [
    {
     "name": "stdout",
     "output_type": "stream",
     "text": [
      "Shape of x : (2, 4)\n",
      "Another method to obtain the shape using `tf.shape(..)`: [2 4]\n",
      "\n",
      "Rank of the tensor: 2\n",
      "dtype of the tensor: <dtype: 'int8'>\n",
      "Total size of the tensor: 8\n",
      "Values of the tensor: [[1 1 1 1]\n",
      " [1 1 1 1]]\n"
     ]
    }
   ],
   "source": [
    "# Check all the properties of a tensor object\n",
    "print(f\"Shape of x : {x.shape}\")\n",
    "print(f\"Another method to obtain the shape using `tf.shape(..)`: {tf.shape(x)}\")\n",
    "\n",
    "print(f\"\\nRank of the tensor: {x.ndim}\")\n",
    "print(f\"dtype of the tensor: {x.dtype}\")\n",
    "print(f\"Total size of the tensor: {tf.size(x)}\")\n",
    "print(f\"Values of the tensor: {x.numpy()}\")"
   ]
  },
  {
   "cell_type": "markdown",
   "id": "yellow-metabolism",
   "metadata": {
    "papermill": {
     "duration": 0.027398,
     "end_time": "2022-10-05T11:09:25.627569",
     "exception": false,
     "start_time": "2022-10-05T11:09:25.600171",
     "status": "completed"
    },
    "tags": []
   },
   "source": [
    "Not able to do assignment in Tensor objects is a bit (more than bit TBH) frustrating. What's the solution then?<br>\n",
    "The best way that I have figured out, that has always worked for my use case is to create a mask or to use [tf.tensor_scatter_nd_update](https://www.tensorflow.org/api_docs/python/tf/tensor_scatter_nd_update). Let's look at an example.<br>\n",
    "\n",
    "Original tensor -> `[1, 2, 3, 4, 5]` <br>\n",
    "Output tensor we want -> `[1, 200, 3, 400, 5]`<br>"
   ]
  },
  {
   "cell_type": "code",
   "execution_count": 10,
   "id": "historic-boutique",
   "metadata": {
    "execution": {
     "iopub.execute_input": "2022-10-05T11:09:25.692916Z",
     "iopub.status.busy": "2022-10-05T11:09:25.692147Z",
     "iopub.status.idle": "2022-10-05T11:09:25.727327Z",
     "shell.execute_reply": "2022-10-05T11:09:25.726621Z",
     "shell.execute_reply.started": "2022-10-05T10:35:09.279443Z"
    },
    "papermill": {
     "duration": 0.072049,
     "end_time": "2022-10-05T11:09:25.727489",
     "exception": false,
     "start_time": "2022-10-05T11:09:25.655440",
     "status": "completed"
    },
    "tags": []
   },
   "outputs": [
    {
     "name": "stdout",
     "output_type": "stream",
     "text": [
      "Original tensor:  tf.Tensor([1. 2. 3. 4. 5.], shape=(5,), dtype=float32)\n",
      "Original mask:  tf.Tensor([False  True False  True False], shape=(5,), dtype=bool)\n",
      "Mask casted to original tensor type:  tf.Tensor([0. 1. 0. 1. 0.], shape=(5,), dtype=float32)\n",
      "Output tensor:  tf.Tensor([  1. 200.   3. 400.   5.], shape=(5,), dtype=float32)\n",
      "tf.Tensor([100. 200. 300. 400. 500.], shape=(5,), dtype=float32)\n"
     ]
    }
   ],
   "source": [
    "# Create a tensor first. Here is another way\n",
    "x = tf.cast([1, 2, 3, 4, 5], dtype=tf.float32)\n",
    "print(\"Original tensor: \", x)\n",
    "\n",
    "mask = x%2 == 0\n",
    "print(\"Original mask: \", mask)\n",
    "\n",
    "mask = tf.cast(mask, dtype=x.dtype)\n",
    "print(\"Mask casted to original tensor type: \", mask)\n",
    "\n",
    "# Some kind of operation on an tensor that is of same size \n",
    "# or broadcastable to the original tensor. Here we will simply\n",
    "# use the range object to create that tensor\n",
    "temp = tf.cast(tf.range(1, 6) * 100, dtype=x.dtype)\n",
    "\n",
    "# Output tensor\n",
    "# Input tensor -> [1, 2, 3, 4, 5]\n",
    "# Mask -> [0, 1, 0, 1, 0]\n",
    "out = x * (1-mask) + mask * temp\n",
    "print(\"Output tensor: \", out)\n",
    "print(temp)"
   ]
  },
  {
   "cell_type": "code",
   "execution_count": 11,
   "id": "found-wichita",
   "metadata": {
    "execution": {
     "iopub.execute_input": "2022-10-05T11:09:25.788452Z",
     "iopub.status.busy": "2022-10-05T11:09:25.787535Z",
     "iopub.status.idle": "2022-10-05T11:09:25.814022Z",
     "shell.execute_reply": "2022-10-05T11:09:25.813406Z",
     "shell.execute_reply.started": "2022-10-05T10:35:10.290537Z"
    },
    "papermill": {
     "duration": 0.058014,
     "end_time": "2022-10-05T11:09:25.814203",
     "exception": false,
     "start_time": "2022-10-05T11:09:25.756189",
     "status": "completed"
    },
    "tags": []
   },
   "outputs": [
    {
     "name": "stdout",
     "output_type": "stream",
     "text": [
      "Indices to update:  tf.Tensor(\n",
      "[[1]\n",
      " [3]], shape=(2, 1), dtype=int64)\n",
      "\n",
      "Output tensor\n",
      "tf.Tensor([  1. 200.   3. 400.   5.], shape=(5,), dtype=float32)\n"
     ]
    }
   ],
   "source": [
    "# Another way to achieve the same thing\n",
    "indices_to_update = tf.where(x % 2 == 0)\n",
    "print(\"Indices to update: \", indices_to_update)\n",
    "\n",
    "# Update the tensor values\n",
    "updates = [200., 400.]\n",
    "out = tf.tensor_scatter_nd_update(x, indices_to_update, updates)\n",
    "print(\"\\nOutput tensor\")\n",
    "print(out)"
   ]
  },
  {
   "cell_type": "markdown",
   "id": "alleged-killer",
   "metadata": {
    "papermill": {
     "duration": 0.028888,
     "end_time": "2022-10-05T11:09:25.872791",
     "exception": false,
     "start_time": "2022-10-05T11:09:25.843903",
     "status": "completed"
    },
    "tags": []
   },
   "source": [
    "Let's take a look at another interesting thing now."
   ]
  },
  {
   "cell_type": "code",
   "execution_count": 12,
   "id": "sonic-distance",
   "metadata": {
    "execution": {
     "iopub.execute_input": "2022-10-05T11:09:25.938333Z",
     "iopub.status.busy": "2022-10-05T11:09:25.937503Z",
     "iopub.status.idle": "2022-10-05T11:09:25.942582Z",
     "shell.execute_reply": "2022-10-05T11:09:25.942001Z",
     "shell.execute_reply.started": "2022-10-03T11:53:59.743327Z"
    },
    "papermill": {
     "duration": 0.041196,
     "end_time": "2022-10-05T11:09:25.942735",
     "exception": false,
     "start_time": "2022-10-05T11:09:25.901539",
     "status": "completed"
    },
    "tags": []
   },
   "outputs": [
    {
     "name": "stdout",
     "output_type": "stream",
     "text": [
      "Numpy array:  [3 4 4 0 1]\n",
      "Accessing numpy array elements based on a  condition with irregular strides [4 1]\n"
     ]
    }
   ],
   "source": [
    "# This works!\n",
    "arr = np.random.randint(5, size=(5,), dtype=np.int32)\n",
    "print(\"Numpy array: \", arr)\n",
    "\n",
    "print(\"Accessing numpy array elements based on a  condition with irregular strides\", arr[[1, 4]])"
   ]
  },
  {
   "cell_type": "code",
   "execution_count": 13,
   "id": "delayed-cooling",
   "metadata": {
    "execution": {
     "iopub.execute_input": "2022-10-05T11:09:26.008278Z",
     "iopub.status.busy": "2022-10-05T11:09:26.007570Z",
     "iopub.status.idle": "2022-10-05T11:09:26.015751Z",
     "shell.execute_reply": "2022-10-05T11:09:26.015057Z",
     "shell.execute_reply.started": "2022-10-03T11:55:29.891306Z"
    },
    "papermill": {
     "duration": 0.043438,
     "end_time": "2022-10-05T11:09:26.015958",
     "exception": false,
     "start_time": "2022-10-05T11:09:25.972520",
     "status": "completed"
    },
    "tags": []
   },
   "outputs": [
    {
     "name": "stdout",
     "output_type": "stream",
     "text": [
      "InvalidArgumentError Index out of range using input dim 1; input has only 1 dims [Op:StridedSlice] name: strided_slice/\n",
      "esto si funciona [2. 5.]\n"
     ]
    }
   ],
   "source": [
    "# This doesn't work\n",
    "try:\n",
    "    print(\"Accessing tensor elements based on a  condition with irregular strides\", x[[1, 4]])\n",
    "except Exception as ex:\n",
    "    print(type(ex).__name__, ex)\n",
    "    \n",
    "print(\"esto si funciona\", x.numpy()[[1, 4]])"
   ]
  },
  {
   "cell_type": "markdown",
   "id": "parental-progressive",
   "metadata": {
    "papermill": {
     "duration": 0.029193,
     "end_time": "2022-10-05T11:09:26.075373",
     "exception": false,
     "start_time": "2022-10-05T11:09:26.046180",
     "status": "completed"
    },
    "tags": []
   },
   "source": [
    "What now? If you want to extract multiple elements from a tensor with irregular strides, or not so well defined strides, then [tf.gather](https://www.tensorflow.org/api_docs/python/tf/gather) and [tf.gather_nd](https://www.tensorflow.org/api_docs/python/tf/gather_nd) are your friend. Let;s try it again! "
   ]
  },
  {
   "cell_type": "code",
   "execution_count": 14,
   "id": "enhanced-assets",
   "metadata": {
    "execution": {
     "iopub.execute_input": "2022-10-05T11:09:26.141604Z",
     "iopub.status.busy": "2022-10-05T11:09:26.140835Z",
     "iopub.status.idle": "2022-10-05T11:09:26.154300Z",
     "shell.execute_reply": "2022-10-05T11:09:26.153234Z",
     "shell.execute_reply.started": "2022-10-03T11:56:18.466354Z"
    },
    "papermill": {
     "duration": 0.049751,
     "end_time": "2022-10-05T11:09:26.154516",
     "exception": false,
     "start_time": "2022-10-05T11:09:26.104765",
     "status": "completed"
    },
    "tags": []
   },
   "outputs": [
    {
     "name": "stdout",
     "output_type": "stream",
     "text": [
      "Original tensor:  [1. 2. 3. 4. 5.]\n",
      "\n",
      "Indices to update:  [[1]\n",
      " [3]]\n",
      "\n",
      " Accesing tensor elements using gather\n",
      "\n",
      " [[2.]\n",
      " [4.]]\n"
     ]
    }
   ],
   "source": [
    "print(\"Original tensor: \", x.numpy())\n",
    "\n",
    "# Using the indices that we used for mask\n",
    "print(\"\\nIndices to update: \", indices_to_update.numpy())\n",
    "\n",
    "# This works!\n",
    "print(\"\\n Accesing tensor elements using gather\")\n",
    "print(\"\\n\", tf.gather(x, indices_to_update).numpy())"
   ]
  },
  {
   "cell_type": "code",
   "execution_count": 15,
   "id": "numerous-creek",
   "metadata": {
    "execution": {
     "iopub.execute_input": "2022-10-05T11:09:26.221052Z",
     "iopub.status.busy": "2022-10-05T11:09:26.220033Z",
     "iopub.status.idle": "2022-10-05T11:09:26.224459Z",
     "shell.execute_reply": "2022-10-05T11:09:26.223800Z",
     "shell.execute_reply.started": "2022-10-03T12:00:53.535115Z"
    },
    "papermill": {
     "duration": 0.039707,
     "end_time": "2022-10-05T11:09:26.224612",
     "exception": false,
     "start_time": "2022-10-05T11:09:26.184905",
     "status": "completed"
    },
    "tags": []
   },
   "outputs": [
    {
     "data": {
      "text/plain": [
       "<tf.Tensor: shape=(2, 1), dtype=float32, numpy=\n",
       "array([[2.],\n",
       "       [4.]], dtype=float32)>"
      ]
     },
     "execution_count": 15,
     "metadata": {},
     "output_type": "execute_result"
    }
   ],
   "source": [
    "y=tf.gather(x, indices_to_update)\n",
    "y"
   ]
  },
  {
   "cell_type": "markdown",
   "id": "regulation-signal",
   "metadata": {
    "papermill": {
     "duration": 0.02957,
     "end_time": "2022-10-05T11:09:26.284671",
     "exception": false,
     "start_time": "2022-10-05T11:09:26.255101",
     "status": "completed"
    },
    "tags": []
   },
   "source": [
    "There is another method `tf.convert_to_tensor(..)` to create a tensor. This is very similar to `tf.constant(..)` but with a few subtle differences:<br>\n",
    "1. Whenever you pass a non tf.Tensor object like a Python list or a ndarray to an op, `convert_to_tensor(..)` is always called automaically\n",
    "2. It doesn't take `shape` as an input argument.\n",
    "3. It allows to pass even `symbolic tensors`. We will take a look at it in a bit.\n",
    "\n",
    "When to use `tf.convert_to_tensor(..)`? It's up to your mental model! "
   ]
  },
  {
   "cell_type": "code",
   "execution_count": 16,
   "id": "educational-israel",
   "metadata": {
    "execution": {
     "iopub.execute_input": "2022-10-05T11:09:26.352085Z",
     "iopub.status.busy": "2022-10-05T11:09:26.351095Z",
     "iopub.status.idle": "2022-10-05T11:09:26.364825Z",
     "shell.execute_reply": "2022-10-05T11:09:26.364085Z",
     "shell.execute_reply.started": "2022-10-04T06:25:37.255545Z"
    },
    "papermill": {
     "duration": 0.050563,
     "end_time": "2022-10-05T11:09:26.365006",
     "exception": false,
     "start_time": "2022-10-05T11:09:26.314443",
     "status": "completed"
    },
    "tags": []
   },
   "outputs": [
    {
     "name": "stdout",
     "output_type": "stream",
     "text": [
      "Tensor from python list:  tf.Tensor([1 2 3], shape=(3,), dtype=int32)\n",
      "Tensor from ndarray:  tf.Tensor([1 2 3], shape=(3,), dtype=int64)\n",
      "Tensor from python list:  Tensor(\"Placeholder:0\", shape=(None, None, None), dtype=int32)\n"
     ]
    }
   ],
   "source": [
    "#  An example with a python list\n",
    "y = tf.convert_to_tensor([1, 2, 3])\n",
    "print(\"Tensor from python list: \", y)\n",
    "\n",
    "#  An example with a ndarray\n",
    "y = tf.convert_to_tensor(np.array([1, 2, 3]))\n",
    "print(\"Tensor from ndarray: \", y)\n",
    "\n",
    "#  An example with symbolic tensors\n",
    "with tf.compat.v1.Graph().as_default():\n",
    "    y = tf.convert_to_tensor(tf.compat.v1.placeholder(shape=[None, None, None], dtype=tf.int32))\n",
    "print(\"Tensor from python list: \", y)"
   ]
  },
  {
   "cell_type": "markdown",
   "id": "urban-spectacular",
   "metadata": {
    "papermill": {
     "duration": 0.030434,
     "end_time": "2022-10-05T11:09:26.426099",
     "exception": false,
     "start_time": "2022-10-05T11:09:26.395665",
     "status": "completed"
    },
    "tags": []
   },
   "source": [
    "### Other kind of Tensor objects available"
   ]
  },
  {
   "cell_type": "markdown",
   "id": "funny-lesbian",
   "metadata": {
    "papermill": {
     "duration": 0.030722,
     "end_time": "2022-10-05T11:09:26.487775",
     "exception": false,
     "start_time": "2022-10-05T11:09:26.457053",
     "status": "completed"
    },
    "tags": []
   },
   "source": [
    "#### String tensors"
   ]
  },
  {
   "cell_type": "code",
   "execution_count": 17,
   "id": "frozen-kelly",
   "metadata": {
    "execution": {
     "iopub.execute_input": "2022-10-05T11:09:26.560172Z",
     "iopub.status.busy": "2022-10-05T11:09:26.559145Z",
     "iopub.status.idle": "2022-10-05T11:09:26.563364Z",
     "shell.execute_reply": "2022-10-05T11:09:26.562686Z",
     "shell.execute_reply.started": "2022-10-04T06:32:51.414234Z"
    },
    "papermill": {
     "duration": 0.04441,
     "end_time": "2022-10-05T11:09:26.563515",
     "exception": false,
     "start_time": "2022-10-05T11:09:26.519105",
     "status": "completed"
    },
    "tags": []
   },
   "outputs": [
    {
     "name": "stdout",
     "output_type": "stream",
     "text": [
      "String tensor:  tf.Tensor(b'abc', shape=(), dtype=string)\n",
      "\n",
      "Accessing second element of the string\n",
      "InvalidArgumentError Index out of range using input dim 0; input has only 0 dims [Op:StridedSlice] name: strided_slice/\n"
     ]
    }
   ],
   "source": [
    "# String as a tensor object with dtype==tf.string\n",
    "string = tf.constant(\"abc\", dtype=tf.string)\n",
    "print(\"String tensor: \", string)\n",
    "\n",
    "# String tensors are atomic and non-indexable. \n",
    "# This doen't work as expected!\n",
    "print(\"\\nAccessing second element of the string\")\n",
    "try:\n",
    "    print(string[1])\n",
    "except Exception as ex:\n",
    "    print(type(ex).__name__, ex)"
   ]
  },
  {
   "cell_type": "markdown",
   "id": "chief-relations",
   "metadata": {
    "papermill": {
     "duration": 0.030963,
     "end_time": "2022-10-05T11:09:26.626442",
     "exception": false,
     "start_time": "2022-10-05T11:09:26.595479",
     "status": "completed"
    },
    "tags": []
   },
   "source": [
    "#### Ragged tensors\n",
    "In short, a tensor with variable numbers of elements along some axis."
   ]
  },
  {
   "cell_type": "code",
   "execution_count": 18,
   "id": "swedish-yeast",
   "metadata": {
    "execution": {
     "iopub.execute_input": "2022-10-05T11:09:26.693823Z",
     "iopub.status.busy": "2022-10-05T11:09:26.693140Z",
     "iopub.status.idle": "2022-10-05T11:09:26.697071Z",
     "shell.execute_reply": "2022-10-05T11:09:26.697637Z",
     "shell.execute_reply.started": "2022-10-04T06:33:13.147608Z"
    },
    "papermill": {
     "duration": 0.040781,
     "end_time": "2022-10-05T11:09:26.697827",
     "exception": false,
     "start_time": "2022-10-05T11:09:26.657046",
     "status": "completed"
    },
    "tags": []
   },
   "outputs": [
    {
     "name": "stdout",
     "output_type": "stream",
     "text": [
      "Creating ragged tensor from python sequence:  <tf.RaggedTensor [[1, 2, 3], [4, 5], [6]]>\n"
     ]
    }
   ],
   "source": [
    "# This works!\n",
    "y = [[1, 2, 3],\n",
    "     [4, 5],\n",
    "     [6]\n",
    "    ]\n",
    "\n",
    "ragged = tf.ragged.constant(y)\n",
    "print(\"Creating ragged tensor from python sequence: \", ragged)"
   ]
  },
  {
   "cell_type": "code",
   "execution_count": 19,
   "id": "disabled-moisture",
   "metadata": {
    "execution": {
     "iopub.execute_input": "2022-10-05T11:09:26.767836Z",
     "iopub.status.busy": "2022-10-05T11:09:26.767075Z",
     "iopub.status.idle": "2022-10-05T11:09:26.772884Z",
     "shell.execute_reply": "2022-10-05T11:09:26.772273Z",
     "shell.execute_reply.started": "2022-10-04T06:33:26.364737Z"
    },
    "papermill": {
     "duration": 0.042271,
     "end_time": "2022-10-05T11:09:26.773042",
     "exception": false,
     "start_time": "2022-10-05T11:09:26.730771",
     "status": "completed"
    },
    "tags": []
   },
   "outputs": [
    {
     "name": "stdout",
     "output_type": "stream",
     "text": [
      "Trying to create tensor from above python sequence\n",
      "\n",
      "ValueError Can't convert non-rectangular Python sequence to Tensor.\n"
     ]
    }
   ],
   "source": [
    "# This won't work\n",
    "print(\"Trying to create tensor from above python sequence\\n\")\n",
    "try:\n",
    "    z = tf.constant(y)\n",
    "except Exception as ex:\n",
    "    print(type(ex).__name__, ex)"
   ]
  },
  {
   "cell_type": "markdown",
   "id": "dirty-advocacy",
   "metadata": {
    "papermill": {
     "duration": 0.031132,
     "end_time": "2022-10-05T11:09:26.836226",
     "exception": false,
     "start_time": "2022-10-05T11:09:26.805094",
     "status": "completed"
    },
    "tags": []
   },
   "source": [
    "#### Sparse tensors"
   ]
  },
  {
   "cell_type": "code",
   "execution_count": 20,
   "id": "similar-bracket",
   "metadata": {
    "execution": {
     "iopub.execute_input": "2022-10-05T11:09:26.907723Z",
     "iopub.status.busy": "2022-10-05T11:09:26.906727Z",
     "iopub.status.idle": "2022-10-05T11:09:26.916772Z",
     "shell.execute_reply": "2022-10-05T11:09:26.915911Z",
     "shell.execute_reply.started": "2022-10-04T06:34:03.224985Z"
    },
    "papermill": {
     "duration": 0.04896,
     "end_time": "2022-10-05T11:09:26.917007",
     "exception": false,
     "start_time": "2022-10-05T11:09:26.868047",
     "status": "completed"
    },
    "tags": []
   },
   "outputs": [
    {
     "name": "stdout",
     "output_type": "stream",
     "text": [
      "SparseTensor(indices=tf.Tensor(\n",
      "[[0 0]\n",
      " [1 1]\n",
      " [2 2]], shape=(3, 2), dtype=int64), values=tf.Tensor([1 2 3], shape=(3,), dtype=int32), dense_shape=tf.Tensor([3 3], shape=(2,), dtype=int64))\n",
      "\n",
      " tf.Tensor(\n",
      "[[1 0 0]\n",
      " [0 2 0]\n",
      " [0 0 3]], shape=(3, 3), dtype=int32)\n"
     ]
    }
   ],
   "source": [
    "# Let's say you have a an array like this one\n",
    "# [[1 0 0]\n",
    "#  [0 2 0]\n",
    "#  [0 0 3]]\n",
    "# If there are too many zeros in your `huge` tensor, then it is wise to use `sparse`\n",
    "# tensors instead of `dense` one. Let's say how to create this one. We need to specify:\n",
    "# 1. Indices where our values are\n",
    "# 2. The values \n",
    "# 3. The actual shape\n",
    "\n",
    "sparse_tensor = tf.SparseTensor(indices=[[0, 0], [1, 1], [2, 2]],\n",
    "                                values=[1, 2, 3],\n",
    "                                dense_shape=[3, 3]\n",
    "                               )\n",
    "print(sparse_tensor)\n",
    "\n",
    "# You can convert sparse tensors to dense as well\n",
    "print(\"\\n\", tf.sparse.to_dense(sparse_tensor))"
   ]
  },
  {
   "cell_type": "markdown",
   "id": "increasing-administration",
   "metadata": {
    "papermill": {
     "duration": 0.031558,
     "end_time": "2022-10-05T11:09:26.981137",
     "exception": false,
     "start_time": "2022-10-05T11:09:26.949579",
     "status": "completed"
    },
    "tags": []
   },
   "source": [
    "**Exercise for readers**:\n",
    "1. Create a random 10x10 sparse tensor\n",
    "2. Gather the elements that are > 5\n",
    "3. Update these elements with a value of 500"
   ]
  },
  {
   "cell_type": "code",
   "execution_count": 21,
   "id": "substantial-stretch",
   "metadata": {
    "execution": {
     "iopub.execute_input": "2022-10-05T11:09:27.053394Z",
     "iopub.status.busy": "2022-10-05T11:09:27.052624Z",
     "iopub.status.idle": "2022-10-05T11:09:27.056732Z",
     "shell.execute_reply": "2022-10-05T11:09:27.056068Z",
     "shell.execute_reply.started": "2022-10-05T10:04:49.369138Z"
    },
    "papermill": {
     "duration": 0.04385,
     "end_time": "2022-10-05T11:09:27.056915",
     "exception": false,
     "start_time": "2022-10-05T11:09:27.013065",
     "status": "completed"
    },
    "tags": []
   },
   "outputs": [
    {
     "name": "stdout",
     "output_type": "stream",
     "text": [
      "SparseTensor(indices=tf.Tensor(\n",
      "[[1 1]\n",
      " [5 5]\n",
      " [6 6]], shape=(3, 2), dtype=int64), values=tf.Tensor([1 7 9], shape=(3,), dtype=int32), dense_shape=tf.Tensor([10 10], shape=(2,), dtype=int64))\n",
      "dense\n",
      " tf.Tensor(\n",
      "[[0 0 0 0 0 0 0 0 0 0]\n",
      " [0 1 0 0 0 0 0 0 0 0]\n",
      " [0 0 0 0 0 0 0 0 0 0]\n",
      " [0 0 0 0 0 0 0 0 0 0]\n",
      " [0 0 0 0 0 0 0 0 0 0]\n",
      " [0 0 0 0 0 7 0 0 0 0]\n",
      " [0 0 0 0 0 0 9 0 0 0]\n",
      " [0 0 0 0 0 0 0 0 0 0]\n",
      " [0 0 0 0 0 0 0 0 0 0]\n",
      " [0 0 0 0 0 0 0 0 0 0]], shape=(10, 10), dtype=int32)\n"
     ]
    }
   ],
   "source": [
    "# random 10x10 sparse Tensor\n",
    "\n",
    "a=[np.random.randint(10),np.random.randint(10),np.random.randint(10)]\n",
    "\n",
    "sparse_tensor= tf.SparseTensor(indices=[[1,1],[5,5],[6,6]],\n",
    "                     values=a,\n",
    "                     dense_shape=[10,10])\n",
    "\n",
    "print(sparse_tensor)\n",
    "print(\"dense\\n\",tf.sparse.to_dense(sparse_tensor))"
   ]
  },
  {
   "cell_type": "code",
   "execution_count": 22,
   "id": "acquired-grant",
   "metadata": {
    "execution": {
     "iopub.execute_input": "2022-10-05T11:09:27.133606Z",
     "iopub.status.busy": "2022-10-05T11:09:27.132879Z",
     "iopub.status.idle": "2022-10-05T11:09:27.141153Z",
     "shell.execute_reply": "2022-10-05T11:09:27.142198Z",
     "shell.execute_reply.started": "2022-10-05T10:37:45.024859Z"
    },
    "papermill": {
     "duration": 0.053446,
     "end_time": "2022-10-05T11:09:27.142466",
     "exception": false,
     "start_time": "2022-10-05T11:09:27.089020",
     "status": "completed"
    },
    "tags": []
   },
   "outputs": [
    {
     "name": "stdout",
     "output_type": "stream",
     "text": [
      "tf.Tensor(\n",
      "[[6 8 0 5 0 9 6 2 0 5]\n",
      " [2 6 3 7 0 9 0 3 2 3]\n",
      " [1 3 1 3 7 1 7 4 0 5]\n",
      " [1 5 9 9 4 0 9 8 8 6]\n",
      " [8 6 3 1 2 5 2 5 6 7]\n",
      " [4 3 5 6 4 6 2 4 2 7]\n",
      " [9 7 7 2 9 7 4 9 0 9]\n",
      " [2 9 1 2 9 1 5 7 4 7]\n",
      " [7 1 4 0 5 4 9 2 9 1]\n",
      " [3 5 9 3 0 4 4 0 6 8]], shape=(10, 10), dtype=int32)\n"
     ]
    }
   ],
   "source": [
    "# Gather the elements that are > 5\n",
    "arr = np.random.randint(10, size=(10,10), dtype=np.int32)\n",
    "\n",
    "#Tensor of 10,10\n",
    "tensor = tf.constant(arr)\n",
    "print(tensor)\n",
    "# Maks for element > 5\n",
    "mask = tensor > 5\n"
   ]
  },
  {
   "cell_type": "code",
   "execution_count": 23,
   "id": "clean-massachusetts",
   "metadata": {
    "execution": {
     "iopub.execute_input": "2022-10-05T11:09:27.231217Z",
     "iopub.status.busy": "2022-10-05T11:09:27.230440Z",
     "iopub.status.idle": "2022-10-05T11:09:27.238305Z",
     "shell.execute_reply": "2022-10-05T11:09:27.238819Z"
    },
    "papermill": {
     "duration": 0.052082,
     "end_time": "2022-10-05T11:09:27.239043",
     "exception": false,
     "start_time": "2022-10-05T11:09:27.186961",
     "status": "completed"
    },
    "tags": []
   },
   "outputs": [
    {
     "name": "stdout",
     "output_type": "stream",
     "text": [
      "Indices to update:  tf.Tensor(\n",
      "[[0 0]\n",
      " [0 1]\n",
      " [0 5]\n",
      " [0 6]\n",
      " [1 1]\n",
      " [1 3]\n",
      " [1 5]\n",
      " [2 4]\n",
      " [2 6]\n",
      " [3 2]\n",
      " [3 3]\n",
      " [3 6]\n",
      " [3 7]\n",
      " [3 8]\n",
      " [3 9]\n",
      " [4 0]\n",
      " [4 1]\n",
      " [4 8]\n",
      " [4 9]\n",
      " [5 3]\n",
      " [5 5]\n",
      " [5 9]\n",
      " [6 0]\n",
      " [6 1]\n",
      " [6 2]\n",
      " [6 4]\n",
      " [6 5]\n",
      " [6 7]\n",
      " [6 9]\n",
      " [7 1]\n",
      " [7 4]\n",
      " [7 7]\n",
      " [7 9]\n",
      " [8 0]\n",
      " [8 6]\n",
      " [8 8]\n",
      " [9 2]\n",
      " [9 8]\n",
      " [9 9]], shape=(39, 2), dtype=int64)\n"
     ]
    }
   ],
   "source": [
    "#Calculamos los Indices donde el valor > 5\n",
    "indices_to_update = tf.where(tensor >5)\n",
    "print(\"Indices to update: \", indices_to_update)\n"
   ]
  },
  {
   "cell_type": "code",
   "execution_count": 24,
   "id": "other-visitor",
   "metadata": {
    "execution": {
     "iopub.execute_input": "2022-10-05T11:09:27.316155Z",
     "iopub.status.busy": "2022-10-05T11:09:27.315274Z",
     "iopub.status.idle": "2022-10-05T11:09:27.332348Z",
     "shell.execute_reply": "2022-10-05T11:09:27.332963Z",
     "shell.execute_reply.started": "2022-10-05T10:41:06.725685Z"
    },
    "papermill": {
     "duration": 0.058828,
     "end_time": "2022-10-05T11:09:27.333167",
     "exception": false,
     "start_time": "2022-10-05T11:09:27.274339",
     "status": "completed"
    },
    "tags": []
   },
   "outputs": [
    {
     "data": {
      "text/plain": [
       "<tf.Tensor: shape=(10, 10), dtype=int32, numpy=\n",
       "array([[500, 500,   0,   5,   0, 500, 500,   2,   0,   5],\n",
       "       [  2, 500,   3, 500,   0, 500,   0,   3,   2,   3],\n",
       "       [  1,   3,   1,   3, 500,   1, 500,   4,   0,   5],\n",
       "       [  1,   5, 500, 500,   4,   0, 500, 500, 500, 500],\n",
       "       [500, 500,   3,   1,   2,   5,   2,   5, 500, 500],\n",
       "       [  4,   3,   5, 500,   4, 500,   2,   4,   2, 500],\n",
       "       [500, 500, 500,   2, 500, 500,   4, 500,   0, 500],\n",
       "       [  2, 500,   1,   2, 500,   1,   5, 500,   4, 500],\n",
       "       [500,   1,   4,   0,   5,   4, 500,   2, 500,   1],\n",
       "       [  3,   5, 500,   3,   0,   4,   4,   0, 500, 500]], dtype=int32)>"
      ]
     },
     "execution_count": 24,
     "metadata": {},
     "output_type": "execute_result"
    }
   ],
   "source": [
    "# total = número de posiciones a cambiar\n",
    "total=indices_to_update.shape[0]\n",
    "\n",
    "#Creamos un array del tamaño total y con valor 500\n",
    "update= np.full((total), 500)\n",
    "\n",
    "#Cambiamos los valores de los índices por 500\n",
    "out = tf.tensor_scatter_nd_update(tensor, indices_to_update, update)\n",
    "out"
   ]
  },
  {
   "cell_type": "markdown",
   "id": "persistent-egyptian",
   "metadata": {
    "papermill": {
     "duration": 0.034484,
     "end_time": "2022-10-05T11:09:27.402402",
     "exception": false,
     "start_time": "2022-10-05T11:09:27.367918",
     "status": "completed"
    },
    "tags": []
   },
   "source": [
    "That's it for part 1! We will be looking at other things in the next tutorial!<br>\n",
    "\n",
    "\n",
    "**References**:\n",
    "1. https://www.tensorflow.org/guide/tensor\n",
    "2. https://keras.io/getting_started/intro_to_keras_for_researchers/"
   ]
  },
  {
   "cell_type": "code",
   "execution_count": null,
   "id": "welsh-asian",
   "metadata": {
    "papermill": {
     "duration": 0.04545,
     "end_time": "2022-10-05T11:09:27.482161",
     "exception": false,
     "start_time": "2022-10-05T11:09:27.436711",
     "status": "completed"
    },
    "tags": []
   },
   "outputs": [],
   "source": []
  }
 ],
 "metadata": {
  "kernelspec": {
   "display_name": "Python 3",
   "language": "python",
   "name": "python3"
  },
  "language_info": {
   "codemirror_mode": {
    "name": "ipython",
    "version": 3
   },
   "file_extension": ".py",
   "mimetype": "text/x-python",
   "name": "python",
   "nbconvert_exporter": "python",
   "pygments_lexer": "ipython3",
   "version": "3.7.10"
  },
  "papermill": {
   "default_parameters": {},
   "duration": 19.903944,
   "end_time": "2022-10-05T11:09:29.720446",
   "environment_variables": {},
   "exception": null,
   "input_path": "__notebook__.ipynb",
   "output_path": "__notebook__.ipynb",
   "parameters": {},
   "start_time": "2022-10-05T11:09:09.816502",
   "version": "2.3.3"
  }
 },
 "nbformat": 4,
 "nbformat_minor": 5
}
