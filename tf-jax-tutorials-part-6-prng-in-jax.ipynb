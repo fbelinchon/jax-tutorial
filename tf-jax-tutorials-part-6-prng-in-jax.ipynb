{
 "cells": [
  {
   "cell_type": "markdown",
   "id": "1f7cc718",
   "metadata": {
    "_cell_guid": "b1076dfc-b9ad-4769-8c92-a6c4dae69d19",
    "_uuid": "8f2839f25d086af736a60e9eeb907d3b93b6e0e5",
    "papermill": {
     "duration": 0.026424,
     "end_time": "2022-10-07T07:57:15.141951",
     "exception": false,
     "start_time": "2022-10-07T07:57:15.115527",
     "status": "completed"
    },
    "tags": []
   },
   "source": [
    "**Update - 23rd Dec, 2021**\n",
    "\n",
    "We have completed the TF-JAX tutorials series. 10 notebooks that covers every fundamental aspect of both TensorFlow and JAX. Here are the links to the notebooks along with the Github repo details:\n",
    "\n",
    "### TensorFlow Notebooks:\n",
    "\n",
    "* [TF_JAX_Tutorials - Part 1](https://www.kaggle.com/aakashnain/tf-jax-tutorials-part1)\n",
    "* [TF_JAX_Tutorials - Part 2](https://www.kaggle.com/aakashnain/tf-jax-tutorials-part2)\n",
    "* [TF_JAX_Tutorials - Part 3](https://www.kaggle.com/aakashnain/tf-jax-tutorials-part3)\n",
    "\n",
    "### JAX Notebooks:\n",
    "\n",
    "* [TF_JAX_Tutorials - Part 4 (JAX and DeviceArray)](https://www.kaggle.com/aakashnain/tf-jax-tutorials-part-4-jax-and-devicearray)\n",
    "* [TF_JAX_Tutorials - Part 5 (Pure Functions in JAX)](https://www.kaggle.com/aakashnain/tf-jax-tutorials-part-5-pure-functions-in-jax/)\n",
    "* [TF_JAX_Tutorials - Part 6 (PRNG in JAX)](https://www.kaggle.com/aakashnain/tf-jax-tutorials-part-6-prng-in-jax/)\n",
    "* [TF_JAX_Tutorials - Part 7 (JIT in JAX)](https://www.kaggle.com/aakashnain/tf-jax-tutorials-part-7-jit-in-jax)\n",
    "* [TF_JAX_Tutorials - Part 8 (Vmap and Pmap)](https://www.kaggle.com/aakashnain/tf-jax-tutorials-part-8-vmap-pmap)\n",
    "* [TF_JAX_Tutorials - Part 9 (Autodiff in JAX)](https://www.kaggle.com/aakashnain/tf-jax-tutorials-part-9-autodiff-in-jax)\n",
    "* [TF_JAX_Tutorials - Part 10 (Pytrees in JAX)](https://www.kaggle.com/aakashnain/tf-jax-tutorials-part-10-pytrees-in-jax)\n",
    "\n",
    "### Github Repo with all notebooks in one place\n",
    "https://github.com/AakashKumarNain/TF_JAX_tutorials\n",
    "\n",
    "---\n",
    "\n",
    "\n",
    "<img src=\"https://raw.githubusercontent.com/google/jax/main/images/jax_logo_250px.png\" width=\"300\" height=\"300\" align=\"center\"/><br>\n",
    "\n",
    "Welcome to another JAX tutorial. Till now, we have discussed **DeviceArray** and **Pure Functions** in JAX. Today, we will dive\n",
    "into another important concept **`Pseudo Random Number Generation`** in JAX. We all have been using `random numbers` in libraries\n",
    "like `numpy`, `scikit-learn`, `TensorFlow`, `PyTorch`, etc. We will see how PRNGs, as done in `numpy`, are not good enough and how JAXtries to overcome those limitations.\n",
    "\n",
    "As usual, if you haven't gone through the previous tutorials, I highly suggest going through them. Here are the links:\n",
    "\n",
    "1. [TF_JAX_Tutorials - Part 1](https://www.kaggle.com/aakashnain/tf-jax-tutorials-part1)\n",
    "2. [TF_JAX_Tutorials - Part 2](https://www.kaggle.com/aakashnain/tf-jax-tutorials-part2)\n",
    "3. [TF_JAX_Tutorials - Part 3](https://www.kaggle.com/aakashnain/tf-jax-tutorials-part3)\n",
    "4. [TF_JAX_Tutorials - Part 4 (JAX and DeviceArray)](https://www.kaggle.com/aakashnain/tf-jax-tutorials-part-4-jax-and-devicearray)\n",
    "5. [TF_JAX_Tutorials - Part 5 (Pure Functions in JAX)](https://www.kaggle.com/aakashnain/tf-jax-tutorials-part-5-pure-functions-in-jax/)\n",
    "\n",
    "\n",
    "Lets' start with the basic concepts of PRNGs first, and then we will look into the implementation differences between `numpy` and JAX for the same"
   ]
  },
  {
   "cell_type": "markdown",
   "id": "0645d87a",
   "metadata": {
    "papermill": {
     "duration": 0.023638,
     "end_time": "2022-10-07T07:57:15.190024",
     "exception": false,
     "start_time": "2022-10-07T07:57:15.166386",
     "status": "completed"
    },
    "tags": []
   },
   "source": [
    "# PRNG - An Introduction\n",
    "\n",
    "Before we look into random numbers generation, here are a few questions that you should ask:<br>\n",
    "1. What is PRNG?\n",
    "2. What is PRNG used for?\n",
    "3. Why should you care about PRNG?\n",
    "\n",
    "\n",
    "Let's tackle those questions one by one and try to understand the `why` and `how` for the things that we are going to learn in this tutorial"
   ]
  },
  {
   "cell_type": "markdown",
   "id": "9ecf860c",
   "metadata": {
    "papermill": {
     "duration": 0.023532,
     "end_time": "2022-10-07T07:57:15.237668",
     "exception": false,
     "start_time": "2022-10-07T07:57:15.214136",
     "status": "completed"
    },
    "tags": []
   },
   "source": [
    "## What is PRNG?\n",
    "\n",
    "If we go by the definition, then **`Pseudo Random Number Generation`** is a process of generating a sequence of random numbers **algorithmically** such that the properties of the generated random numbers approximate the properties of a sequence of random numbers sampled from an appropriate distribution. And when we say `random`, it means that the probability of predicting this sequence is no better than a random guess.\n",
    "\n",
    "Although we are concerned about the randomness here, pseudo random number generation isn't *truly* a random process. Why? Because the sequence is determined by the initial value or initial state provided to the algorithm. The **algorithm** used to generate these sequences of random numbers is known as **`Pseudo Random Number Generator`**\n",
    "\n",
    "\n",
    "## What is PRNG used for?\n",
    "\n",
    "PRNG has a lot of use cases but among the most interesting ones are in `Cryptography`, `Simulations`, `Games`, `Data Science and Machine Learning`(of course), etc. You might have noticed that *most* people set the **`seed`** in their Data Science and Machine Learning workflow. The **seed** is known as the initial value!\n",
    "\n",
    "\n",
    "## Why should you care about PRNG?\n",
    "\n",
    "Although there are tons of use cases of PRNG, I would keep this very specific to Data Science and Machine Learning workflow. When we set a seed, what we try to solve is the `reproducibility` issue. Although `reproducibility` depends on a lot of things, I will use the term very loosely in this context. \n",
    "\n",
    "We deal with random states in Machine Learning work more often than we think about. For example, splitting a dataset into training and validation sets, sampling the weights of a hidden layer from a given distribution in a neural network, sampling a noise vector from a Gaussian distribution, etc. So, when we say `reproducible` in this context, what we mean is that no matter how many times I run the same process, I should get the same sequence of random numbers. That's why setting a seed becomes important. \n",
    "\n",
    "**Note:** Saying it again, setting `seed` doesn't solve the reproducibility crisis of a workflow, it's just a first step to ensure it.\n",
    "\n",
    "Let's take an example to clear the point about reproducibility!"
   ]
  },
  {
   "cell_type": "code",
   "execution_count": 1,
   "id": "6ebff767",
   "metadata": {
    "execution": {
     "iopub.execute_input": "2022-10-07T07:57:15.292040Z",
     "iopub.status.busy": "2022-10-07T07:57:15.290252Z",
     "iopub.status.idle": "2022-10-07T07:57:17.153214Z",
     "shell.execute_reply": "2022-10-07T07:57:17.152116Z",
     "shell.execute_reply.started": "2022-10-07T07:40:51.370151Z"
    },
    "papermill": {
     "duration": 1.891683,
     "end_time": "2022-10-07T07:57:17.153401",
     "exception": false,
     "start_time": "2022-10-07T07:57:15.261718",
     "status": "completed"
    },
    "tags": []
   },
   "outputs": [],
   "source": [
    "import numpy as np\n",
    "from joblib import Parallel, delayed\n",
    "\n",
    "import jax\n",
    "from jax import jit\n",
    "import jax.numpy as jnp\n",
    "\n",
    "%config IPCompleter.use_jedi = False"
   ]
  },
  {
   "cell_type": "markdown",
   "id": "2cfad92a",
   "metadata": {
    "papermill": {
     "duration": 0.023613,
     "end_time": "2022-10-07T07:57:17.201056",
     "exception": false,
     "start_time": "2022-10-07T07:57:17.177443",
     "status": "completed"
    },
    "tags": []
   },
   "source": [
    "# Random Numbers in Numpy"
   ]
  },
  {
   "cell_type": "code",
   "execution_count": 2,
   "id": "9d7533a5",
   "metadata": {
    "execution": {
     "iopub.execute_input": "2022-10-07T07:57:17.253715Z",
     "iopub.status.busy": "2022-10-07T07:57:17.252721Z",
     "iopub.status.idle": "2022-10-07T07:57:17.263347Z",
     "shell.execute_reply": "2022-10-07T07:57:17.263905Z",
     "shell.execute_reply.started": "2022-10-06T13:39:09.962207Z"
    },
    "papermill": {
     "duration": 0.039221,
     "end_time": "2022-10-07T07:57:17.264101",
     "exception": false,
     "start_time": "2022-10-07T07:57:17.224880",
     "status": "completed"
    },
    "tags": []
   },
   "outputs": [
    {
     "name": "stdout",
     "output_type": "stream",
     "text": [
      "Seed: 0 -> Random number generated: 4 - 0\n",
      "Seed: 0 -> Random number generated: 4 - 0\n",
      "Seed: 0 -> Random number generated: 4 - 0\n",
      "Seed: 0 -> Random number generated: 4 - 0\n",
      "Seed: 0 -> Random number generated: 4 - 0\n",
      "Seed: 0 -> Random number generated: 4 - 0\n",
      "Seed: 0 -> Random number generated: 4 - 0\n",
      "Seed: 0 -> Random number generated: 4 - 0\n",
      "Seed: 0 -> Random number generated: 4 - 0\n",
      "Seed: 0 -> Random number generated: 4 - 0\n"
     ]
    }
   ],
   "source": [
    "# If I set the seed, would I get the same sequence of random numbers every time?\n",
    "\n",
    "for i in range(10):\n",
    "    # Set initial value by providing a seed value\n",
    "    seed = 0\n",
    "    np.random.seed(seed)\n",
    "    \n",
    "    # Generate a random integer from a range of [0, 5)\n",
    "    random_number = np.random.randint(0, 5)\n",
    "    print(f\"Seed: {seed} -> Random number generated: {random_number} - {np.random.randint(0, 5)}\")\n",
    " "
   ]
  },
  {
   "cell_type": "markdown",
   "id": "64df4010",
   "metadata": {
    "papermill": {
     "duration": 0.023982,
     "end_time": "2022-10-07T07:57:17.312939",
     "exception": false,
     "start_time": "2022-10-07T07:57:17.288957",
     "status": "completed"
    },
    "tags": []
   },
   "source": [
    "Let's take a bit complex example. We will take an array and split the array into two arrays."
   ]
  },
  {
   "cell_type": "code",
   "execution_count": 3,
   "id": "2d0c9f38",
   "metadata": {
    "execution": {
     "iopub.execute_input": "2022-10-07T07:57:17.367071Z",
     "iopub.status.busy": "2022-10-07T07:57:17.366021Z",
     "iopub.status.idle": "2022-10-07T07:57:17.377211Z",
     "shell.execute_reply": "2022-10-07T07:57:17.376626Z",
     "shell.execute_reply.started": "2022-10-06T13:42:58.260380Z"
    },
    "papermill": {
     "duration": 0.038882,
     "end_time": "2022-10-07T07:57:17.377366",
     "exception": false,
     "start_time": "2022-10-07T07:57:17.338484",
     "status": "completed"
    },
    "tags": []
   },
   "outputs": [
    {
     "data": {
      "text/plain": [
       "array([ 0,  2,  4,  6,  8, 10, 12, 14, 16, 18])"
      ]
     },
     "execution_count": 3,
     "metadata": {},
     "output_type": "execute_result"
    }
   ],
   "source": [
    "np.arange(0,20,2)"
   ]
  },
  {
   "cell_type": "code",
   "execution_count": 4,
   "id": "d7e4e987",
   "metadata": {
    "execution": {
     "iopub.execute_input": "2022-10-07T07:57:17.431109Z",
     "iopub.status.busy": "2022-10-07T07:57:17.430307Z",
     "iopub.status.idle": "2022-10-07T07:57:17.445644Z",
     "shell.execute_reply": "2022-10-07T07:57:17.446400Z",
     "shell.execute_reply.started": "2022-10-06T13:52:05.626042Z"
    },
    "papermill": {
     "duration": 0.044216,
     "end_time": "2022-10-07T07:57:17.446646",
     "exception": false,
     "start_time": "2022-10-07T07:57:17.402430",
     "status": "completed"
    },
    "tags": []
   },
   "outputs": [
    {
     "name": "stdout",
     "output_type": "stream",
     "text": [
      "array [ 0  2  4  6  8 10 12 14 16 18]\n",
      "array_1_idx [3 6 5 4 8 9 1 7]\n",
      "array_2_idx [9 6]\n",
      "Iteration: 1  Seed value: 1234\n",
      "\n",
      "First array: [ 6 12 10  8 16 18  2 14]  Second array: [18 12]\n",
      "==================================================\n",
      "\n",
      "array_1_idx [3 6 5 4 8 9 1 7]\n",
      "array_2_idx [9 6]\n",
      "Iteration: 2  Seed value: 1234\n",
      "\n",
      "First array: [ 6 12 10  8 16 18  2 14]  Second array: [18 12]\n",
      "==================================================\n",
      "\n",
      "array_1_idx [3 6 5 4 8 9 1 7]\n",
      "array_2_idx [9 6]\n",
      "Iteration: 3  Seed value: 1234\n",
      "\n",
      "First array: [ 6 12 10  8 16 18  2 14]  Second array: [18 12]\n",
      "==================================================\n",
      "\n",
      "array_1_idx [3 6 5 4 8 9 1 7]\n",
      "array_2_idx [9 6]\n",
      "Iteration: 4  Seed value: 1234\n",
      "\n",
      "First array: [ 6 12 10  8 16 18  2 14]  Second array: [18 12]\n",
      "==================================================\n",
      "\n",
      "array_1_idx [3 6 5 4 8 9 1 7]\n",
      "array_2_idx [9 6]\n",
      "Iteration: 5  Seed value: 1234\n",
      "\n",
      "First array: [ 6 12 10  8 16 18  2 14]  Second array: [18 12]\n",
      "==================================================\n",
      "\n"
     ]
    }
   ],
   "source": [
    "# Array of 10 values\n",
    "array = np.arange(0,20,2)\n",
    "print(f\"array {array}\")\n",
    "\n",
    "for i in range(5):\n",
    "    # Set initial value by providing a seed value\n",
    "    seed = 1234\n",
    "    np.random.seed(seed)\n",
    "    \n",
    "    # Choose array1 and array2 indices\n",
    "    array_1_idx = np.random.choice(range(10), size=8)\n",
    "    print(f\"array_1_idx {array_1_idx}\")\n",
    "    array_2_idx = np.random.choice(range(10), size=2)\n",
    "    print(f\"array_2_idx {array_2_idx}\")\n",
    "    \n",
    "    # Split the array into two sets\n",
    "    array_1 = array[array_1_idx]\n",
    "    array_2 = array[array_2_idx]\n",
    "    \n",
    "    print(f\"Iteration: {i+1}  Seed value: {seed}\\n\")\n",
    "    print(f\"First array: {array_1}  Second array: {array_2}\")\n",
    "    print(\"=\"*50)\n",
    "    print(\"\")"
   ]
  },
  {
   "cell_type": "markdown",
   "id": "7190dbf6",
   "metadata": {
    "papermill": {
     "duration": 0.024987,
     "end_time": "2022-10-07T07:57:17.497958",
     "exception": false,
     "start_time": "2022-10-07T07:57:17.472971",
     "status": "completed"
    },
    "tags": []
   },
   "source": [
    "<div class=\"alert alert-warning\"> <b>Note: </b>The one we saw above is the <b>legacy</b> way to generate a sequence of random numbers in numpy. It uses a legacy generator provided by numpy <i><a href=\"https://numpy.org/doc/stable/reference/random/legacy.html\">RandomState(...)</a></i>. But this is also the one that is most widely used. There is another functions (preferred way as per the docs) <i>np.random.default_rng()</i> that uses the default BitGenerator for generating random sequences.\n",
    "</div><br><br>\n",
    "\n",
    "Let's repeat the above example with `default_rng(...)` as well. Because this is a different RNG, we should expect a different sequence here."
   ]
  },
  {
   "cell_type": "code",
   "execution_count": 5,
   "id": "8d66e184",
   "metadata": {
    "execution": {
     "iopub.execute_input": "2022-10-07T07:57:17.552344Z",
     "iopub.status.busy": "2022-10-07T07:57:17.551314Z",
     "iopub.status.idle": "2022-10-07T07:57:17.566209Z",
     "shell.execute_reply": "2022-10-07T07:57:17.566978Z",
     "shell.execute_reply.started": "2022-10-06T13:53:25.299154Z"
    },
    "papermill": {
     "duration": 0.044074,
     "end_time": "2022-10-07T07:57:17.567220",
     "exception": false,
     "start_time": "2022-10-07T07:57:17.523146",
     "status": "completed"
    },
    "tags": []
   },
   "outputs": [
    {
     "name": "stdout",
     "output_type": "stream",
     "text": [
      "Iteration: 1  Seed value: 0\n",
      "\n",
      "First array: [8 6 5 2 3 0 0 0]  Second array: [1 8]\n",
      "==================================================\n",
      "\n",
      "Iteration: 2  Seed value: 0\n",
      "\n",
      "First array: [8 6 5 2 3 0 0 0]  Second array: [1 8]\n",
      "==================================================\n",
      "\n",
      "Iteration: 3  Seed value: 0\n",
      "\n",
      "First array: [8 6 5 2 3 0 0 0]  Second array: [1 8]\n",
      "==================================================\n",
      "\n",
      "Iteration: 4  Seed value: 0\n",
      "\n",
      "First array: [8 6 5 2 3 0 0 0]  Second array: [1 8]\n",
      "==================================================\n",
      "\n",
      "Iteration: 5  Seed value: 0\n",
      "\n",
      "First array: [8 6 5 2 3 0 0 0]  Second array: [1 8]\n",
      "==================================================\n",
      "\n"
     ]
    }
   ],
   "source": [
    "# Array of 10 values\n",
    "array = np.arange(10)\n",
    "\n",
    "# Same example but with a different kind of random number generator\n",
    "for i in range(5):\n",
    "    # Set initial value by providing a seed value\n",
    "    seed = 0\n",
    "    rng = np.random.default_rng(seed)\n",
    "    \n",
    "    # Choose array1 and array2 indices\n",
    "    array_1_idx = rng.choice(array, size=8)\n",
    "    array_2_idx = rng.choice(array, size=2)\n",
    "    \n",
    "    # Split the array into two sets\n",
    "    array_1 = array[array_1_idx]\n",
    "    array_2 = array[array_2_idx]\n",
    "    \n",
    "    print(f\"Iteration: {i+1}  Seed value: {seed}\\n\")\n",
    "    print(f\"First array: {array_1}  Second array: {array_2}\")\n",
    "    print(\"=\"*50)\n",
    "    print(\"\")"
   ]
  },
  {
   "cell_type": "code",
   "execution_count": 6,
   "id": "6b10fe15",
   "metadata": {
    "execution": {
     "iopub.execute_input": "2022-10-07T07:57:17.623388Z",
     "iopub.status.busy": "2022-10-07T07:57:17.622431Z",
     "iopub.status.idle": "2022-10-07T07:57:17.631404Z",
     "shell.execute_reply": "2022-10-07T07:57:17.630883Z",
     "shell.execute_reply.started": "2022-10-07T07:46:33.054067Z"
    },
    "papermill": {
     "duration": 0.037718,
     "end_time": "2022-10-07T07:57:17.631559",
     "exception": false,
     "start_time": "2022-10-07T07:57:17.593841",
     "status": "completed"
    },
    "tags": []
   },
   "outputs": [
    {
     "name": "stdout",
     "output_type": "stream",
     "text": [
      "212993093288101549350535640495415942674\n"
     ]
    }
   ],
   "source": [
    "sq1 = np.random.SeedSequence()\n",
    "print(sq1.entropy)\n",
    "\n",
    "sq2 = np.random.SeedSequence(sq1.entropy)\n",
    "assert(np.all(sq1.generate_state(10) == sq2.generate_state(10)))\n",
    "\n"
   ]
  },
  {
   "cell_type": "markdown",
   "id": "94f8ca11",
   "metadata": {
    "papermill": {
     "duration": 0.025634,
     "end_time": "2022-10-07T07:57:17.683669",
     "exception": false,
     "start_time": "2022-10-07T07:57:17.658035",
     "status": "completed"
    },
    "tags": []
   },
   "source": [
    "# Numpy PRNG: Pros and Cons\n",
    "\n",
    "We saw a few examples of how you can generate pseudo random numbers in numpy. But I am pretty sure that most of us overlook the `pros` and `cons` of these approaches. Today isn't that day. We will dive into the pros and cons right away.\n",
    "\n",
    "\n",
    "## Pros\n",
    "\n",
    "1. Setting a global seed is easy from most of the end users' perspectives. You set it once and be done with it\n",
    "2. With the new generator and **[SeedSequencing](https://numpy.org/doc/stable/reference/random/bit_generators/generated/numpy.random.SeedSequence.html#numpy.random.SeedSequence)**, it is possible to produce repeatable pseudo-random numbers across multiple processes (local or distributed)\n",
    "3. **Sequential Equivalent Guarantee**: One of the good things about random number generation in `numpy` is that it ensures sequential equivalent guarantee. What does that mean? It means that whether you sample a vector of `n` elements at once, or sample `n` elements but one at a time, the final sequence will always be the same. Let's see this one in action"
   ]
  },
  {
   "cell_type": "code",
   "execution_count": 7,
   "id": "071fadb9",
   "metadata": {
    "execution": {
     "iopub.execute_input": "2022-10-07T07:57:17.738959Z",
     "iopub.status.busy": "2022-10-07T07:57:17.737998Z",
     "iopub.status.idle": "2022-10-07T07:57:17.746519Z",
     "shell.execute_reply": "2022-10-07T07:57:17.747204Z",
     "shell.execute_reply.started": "2022-10-07T07:41:40.605218Z"
    },
    "papermill": {
     "duration": 0.037977,
     "end_time": "2022-10-07T07:57:17.747449",
     "exception": false,
     "start_time": "2022-10-07T07:57:17.709472",
     "status": "completed"
    },
    "tags": []
   },
   "outputs": [
    {
     "name": "stdout",
     "output_type": "stream",
     "text": [
      "Sampled all at once    => [3 6 5 4 8 9 1 7 9 6]\n",
      "Sampled one at a time  => [3 6 5 4 8 9 1 7 9 6]\n"
     ]
    }
   ],
   "source": [
    "# Set the seed\n",
    "seed = 1234\n",
    "np.random.seed(seed)\n",
    "\n",
    "# Sample a vector of size 10 \n",
    "array1 = np.random.randint(0, 10, size=10)\n",
    "\n",
    "# Sample 10 elements one at a time\n",
    "np.random.seed(seed)\n",
    "array2 = np.stack([np.random.randint(0, 10) for _ in range(10)])\n",
    "\n",
    "print(f\"Sampled all at once    => {array1}\")\n",
    "print(f\"Sampled one at a time  => {array2}\")"
   ]
  },
  {
   "cell_type": "markdown",
   "id": "fe5c8ccd",
   "metadata": {
    "papermill": {
     "duration": 0.025721,
     "end_time": "2022-10-07T07:57:17.799633",
     "exception": false,
     "start_time": "2022-10-07T07:57:17.773912",
     "status": "completed"
    },
    "tags": []
   },
   "source": [
    "## Cons\n",
    "\n",
    "1. Global state is bad for reproducibility: Global state is problematic especially if you are going to implement some sort of concurrency in your code. That's why the original way to set global seed in numpy isn't encouraged anymore\n",
    "2. With a shared global state, it’s hard to reason about how it’s being used and updated across different threads, processes, and devices, and it’s very easy to screw up when the details of entropy production and consumption are hidden from the end-user.\n",
    "3. The **Mersenne Twister PRNG** used in most of the python and numpy code has several [initialization issues](https://dl.acm.org/doi/10.1145/1276927.1276928)\n",
    "4. `SeedSequencing` makes it easy to get a reproducible sequence of random numbers when concurrency is involved but it still can't be used for JAX (we will see later in why exactly!) \n",
    "\n",
    "Let's take an example of `SeedSequencing` as well before we move to JAX PRNG design"
   ]
  },
  {
   "cell_type": "code",
   "execution_count": 8,
   "id": "4c89396c",
   "metadata": {
    "execution": {
     "iopub.execute_input": "2022-10-07T07:57:17.855017Z",
     "iopub.status.busy": "2022-10-07T07:57:17.854315Z",
     "iopub.status.idle": "2022-10-07T07:57:17.858509Z",
     "shell.execute_reply": "2022-10-07T07:57:17.859034Z",
     "shell.execute_reply.started": "2022-10-07T07:42:37.771340Z"
    },
    "papermill": {
     "duration": 0.033514,
     "end_time": "2022-10-07T07:57:17.859214",
     "exception": false,
     "start_time": "2022-10-07T07:57:17.825700",
     "status": "completed"
    },
    "tags": []
   },
   "outputs": [],
   "source": [
    "def get_sequence(seed, size=5):\n",
    "    rng = np.random.default_rng(seed)\n",
    "    array = np.arange(10)\n",
    "    return rng.choice(array, size=size)"
   ]
  },
  {
   "cell_type": "code",
   "execution_count": 9,
   "id": "7fbba3e4",
   "metadata": {
    "execution": {
     "iopub.execute_input": "2022-10-07T07:57:17.914658Z",
     "iopub.status.busy": "2022-10-07T07:57:17.913978Z",
     "iopub.status.idle": "2022-10-07T07:57:18.329932Z",
     "shell.execute_reply": "2022-10-07T07:57:18.328301Z",
     "shell.execute_reply.started": "2022-10-07T07:47:35.027121Z"
    },
    "papermill": {
     "duration": 0.444971,
     "end_time": "2022-10-07T07:57:18.330258",
     "exception": false,
     "start_time": "2022-10-07T07:57:17.885287",
     "status": "completed"
    },
    "tags": []
   },
   "outputs": [
    {
     "name": "stdout",
     "output_type": "stream",
     "text": [
      "Iteration: 1 Sequences: [array([4, 5, 4, 2, 5]), array([7, 7, 7, 5, 1])]\n",
      "======================================================================\n",
      "Iteration: 2 Sequences: [array([4, 5, 4, 2, 5]), array([7, 7, 7, 5, 1])]\n",
      "======================================================================\n",
      "Iteration: 3 Sequences: [array([4, 5, 4, 2, 5]), array([7, 7, 7, 5, 1])]\n",
      "======================================================================\n",
      "Iteration: 4 Sequences: [array([4, 5, 4, 2, 5]), array([7, 7, 7, 5, 1])]\n",
      "======================================================================\n",
      "Iteration: 5 Sequences: [array([4, 5, 4, 2, 5]), array([7, 7, 7, 5, 1])]\n",
      "======================================================================\n"
     ]
    }
   ],
   "source": [
    "# Instantiate SeedSequence\n",
    "seed = 1234\n",
    "ss = np.random.SeedSequence(seed)\n",
    "\n",
    "# Spawn 2 child seed sequence\n",
    "child_seeds = ss.spawn(2)\n",
    "    \n",
    "    \n",
    "\n",
    "# Run the function a few times in parallel to check if we get\n",
    "# same RNG sequence\n",
    "for i in range(5):\n",
    "    res = []\n",
    "    for child_seed in child_seeds:\n",
    "        res.append(delayed(get_sequence)(child_seed))\n",
    "    res = Parallel(n_jobs=2)(res)\n",
    "    print(f\"Iteration: {i+1} Sequences: {res}\")\n",
    "    print(\"=\"*70)"
   ]
  },
  {
   "cell_type": "markdown",
   "id": "ba10a8ad",
   "metadata": {
    "papermill": {
     "duration": 0.026534,
     "end_time": "2022-10-07T07:57:18.389938",
     "exception": false,
     "start_time": "2022-10-07T07:57:18.363404",
     "status": "completed"
    },
    "tags": []
   },
   "source": [
    "# Random Numbers in JAX\n",
    "\n",
    "RNG in JAX is very different from RNG in numpy. A question that naturally comes to mind is this: Why would the JAX team implement a whole new PRNG in JAX when they could have just reused the same codebase from numpy? ¯\\_(ツ)_/¯\n",
    "\n",
    "Let's take a few examples to answer that question\n",
    "\n",
    "Execution of functions that use numpy code is enforced by Python. Let's say `A`, and `B` are two functions. The return values from `A` and `B` are assigned to `C`. So, the code looks like this: `C = A() + B()`"
   ]
  },
  {
   "cell_type": "code",
   "execution_count": 10,
   "id": "81b7ac72",
   "metadata": {
    "execution": {
     "iopub.execute_input": "2022-10-07T07:57:18.450107Z",
     "iopub.status.busy": "2022-10-07T07:57:18.449328Z",
     "iopub.status.idle": "2022-10-07T07:57:18.452639Z",
     "shell.execute_reply": "2022-10-07T07:57:18.453239Z",
     "shell.execute_reply.started": "2022-10-07T07:48:20.007759Z"
    },
    "papermill": {
     "duration": 0.037151,
     "end_time": "2022-10-07T07:57:18.453421",
     "exception": false,
     "start_time": "2022-10-07T07:57:18.416270",
     "status": "completed"
    },
    "tags": []
   },
   "outputs": [
    {
     "name": "stdout",
     "output_type": "stream",
     "text": [
      "Iteration: 1  C: AB\n",
      "Iteration: 2  C: aB\n"
     ]
    }
   ],
   "source": [
    "# Global seed\n",
    "np.random.seed(1234)\n",
    "\n",
    "def A():\n",
    "    return np.random.choice([\"a\", \"A\"])\n",
    "\n",
    "def B():\n",
    "    return np.random.choice([\"b\", \"B\"])\n",
    "\n",
    "for i in range(2):\n",
    "    C = A() + B()\n",
    "    print(f\"Iteration: {i+1}  C: {C}\")"
   ]
  },
  {
   "cell_type": "markdown",
   "id": "55b0cf82",
   "metadata": {
    "papermill": {
     "duration": 0.028014,
     "end_time": "2022-10-07T07:57:18.508511",
     "exception": false,
     "start_time": "2022-10-07T07:57:18.480497",
     "status": "completed"
    },
    "tags": []
   },
   "source": [
    "Here the execution has a defined order. `A()` is always called before `B()`. But if you do the same thing in JAX (although JAX doesn't allow string type, this is just for the sake of an example) and `jit` it, then you don't know whether `A()` will be called first or `B()` will be called first. Why?\n",
    "\n",
    "1. XLA will execute them in the order that is most efficient not necessarily in the same order. Remember `tf.control_dependencies(...)` that we used to use in the old days? Nothing wrong with TensorFlow, it's just a way to instruct the compiler\n",
    "2. If you force the order of execution, then it contradicts the philosophy of JAX that if two transformations are independent of each other, then their execution can be parallelized.\n",
    "\n",
    "\n",
    "This looks like a crisis. How? If you use a global state (as in numpy), you won't be able to infer which function was called first, hence the sequence of generated random numbers is irreproducible. What's the solution then?\n",
    "\n",
    "## RNG Design in JAX\n",
    "\n",
    "To make sure that we can parallelize the transformations, and still get reproducible results, JAX applies two rules:\n",
    "1. Don't depend on the global seed for generating random sequences\n",
    "2. Random functions should explicitly consume a state(seed), this will ensure that these functions would reproduce the same result when the same seed. This can have some weird effects as well which we will see in a moment\n",
    "\n",
    "Let's take a few examples of how `state` is passed to random functions in JAX.\n",
    "\n",
    "**Note:** When people say `state`, `seed`, or `key` in the context of PRNG, they mean the same thing (unless it is something different). JAX uses the word `key` and `subkey` more often than the word `seed`. To keep it consistent with the docs, we will use the same terminology here"
   ]
  },
  {
   "cell_type": "code",
   "execution_count": 11,
   "id": "b00e09b9",
   "metadata": {
    "execution": {
     "iopub.execute_input": "2022-10-07T07:57:18.565995Z",
     "iopub.status.busy": "2022-10-07T07:57:18.565211Z",
     "iopub.status.idle": "2022-10-07T07:57:18.570273Z",
     "shell.execute_reply": "2022-10-07T07:57:18.569591Z",
     "shell.execute_reply.started": "2022-10-07T07:50:04.713534Z"
    },
    "papermill": {
     "duration": 0.034553,
     "end_time": "2022-10-07T07:57:18.570425",
     "exception": false,
     "start_time": "2022-10-07T07:57:18.535872",
     "status": "completed"
    },
    "tags": []
   },
   "outputs": [],
   "source": [
    "from jax import random"
   ]
  },
  {
   "cell_type": "code",
   "execution_count": 12,
   "id": "4b2dc710",
   "metadata": {
    "execution": {
     "iopub.execute_input": "2022-10-07T07:57:18.645705Z",
     "iopub.status.busy": "2022-10-07T07:57:18.644932Z",
     "iopub.status.idle": "2022-10-07T07:57:18.994739Z",
     "shell.execute_reply": "2022-10-07T07:57:18.995329Z",
     "shell.execute_reply.started": "2022-10-07T07:50:09.181540Z"
    },
    "papermill": {
     "duration": 0.397858,
     "end_time": "2022-10-07T07:57:18.995521",
     "exception": false,
     "start_time": "2022-10-07T07:57:18.597663",
     "status": "completed"
    },
    "tags": []
   },
   "outputs": [
    {
     "data": {
      "text/plain": [
       "DeviceArray([   0, 1234], dtype=uint32)"
      ]
     },
     "execution_count": 12,
     "metadata": {},
     "output_type": "execute_result"
    }
   ],
   "source": [
    "# Define a state\n",
    "seed = 1234\n",
    "key = random.PRNGKey(1234)\n",
    "key"
   ]
  },
  {
   "cell_type": "markdown",
   "id": "d076df51",
   "metadata": {
    "papermill": {
     "duration": 0.026969,
     "end_time": "2022-10-07T07:57:19.049715",
     "exception": false,
     "start_time": "2022-10-07T07:57:19.022746",
     "status": "completed"
    },
    "tags": []
   },
   "source": [
    "So, a `key` is nothing but a `DeviceArray` of shape `(2, )`. This key is then passed to random functions. **Random functions consume the state but don't change it**, meaning if you keep passing the same key to the same function, it will always return the same output.\n",
    "\n",
    "Because functions don't change the state, ever ytime we call a new random function, we need to pass a new key. How is the new key generated? By splitting the original key. Take a look at the example below"
   ]
  },
  {
   "cell_type": "code",
   "execution_count": 13,
   "id": "60cd3814",
   "metadata": {
    "execution": {
     "iopub.execute_input": "2022-10-07T07:57:19.108680Z",
     "iopub.status.busy": "2022-10-07T07:57:19.108012Z",
     "iopub.status.idle": "2022-10-07T07:57:19.520024Z",
     "shell.execute_reply": "2022-10-07T07:57:19.519301Z",
     "shell.execute_reply.started": "2022-10-07T07:51:10.747061Z"
    },
    "papermill": {
     "duration": 0.442044,
     "end_time": "2022-10-07T07:57:19.520184",
     "exception": false,
     "start_time": "2022-10-07T07:57:19.078140",
     "status": "completed"
    },
    "tags": []
   },
   "outputs": [
    {
     "name": "stdout",
     "output_type": "stream",
     "text": [
      "[2 4 9 9 4]\n"
     ]
    }
   ],
   "source": [
    "# Passing the original key to a random function\n",
    "random_integers = random.randint(key=key, minval=0, maxval=10, shape=[5])\n",
    "print(random_integers)"
   ]
  },
  {
   "cell_type": "code",
   "execution_count": 14,
   "id": "bb8ad3d2",
   "metadata": {
    "execution": {
     "iopub.execute_input": "2022-10-07T07:57:19.604347Z",
     "iopub.status.busy": "2022-10-07T07:57:19.603254Z",
     "iopub.status.idle": "2022-10-07T07:57:19.691236Z",
     "shell.execute_reply": "2022-10-07T07:57:19.691886Z",
     "shell.execute_reply.started": "2022-10-07T07:51:37.122203Z"
    },
    "papermill": {
     "duration": 0.144205,
     "end_time": "2022-10-07T07:57:19.692119",
     "exception": false,
     "start_time": "2022-10-07T07:57:19.547914",
     "status": "completed"
    },
    "tags": []
   },
   "outputs": [
    {
     "name": "stdout",
     "output_type": "stream",
     "text": [
      "Original key:  [   0 1234]\n",
      "New key:  [2113592192 1902136347]\n",
      "Subkey:  [603280156 445306386]\n"
     ]
    }
   ],
   "source": [
    "# What if we want to call another function?\n",
    "# Don't use the same key. Split the original key, and then pass it\n",
    "print(\"Original key: \", key)\n",
    "\n",
    "# Split the key. By default the number of splits is set to 2\n",
    "# You can specify explicitly how many splits you want to do\n",
    "key, subkey = random.split(key, num=2)\n",
    "\n",
    "print(\"New key: \",  key)\n",
    "print(\"Subkey: \", subkey)"
   ]
  },
  {
   "cell_type": "code",
   "execution_count": 15,
   "id": "e7c95f34",
   "metadata": {
    "execution": {
     "iopub.execute_input": "2022-10-07T07:57:19.754700Z",
     "iopub.status.busy": "2022-10-07T07:57:19.753662Z",
     "iopub.status.idle": "2022-10-07T07:57:19.930990Z",
     "shell.execute_reply": "2022-10-07T07:57:19.931765Z",
     "shell.execute_reply.started": "2022-10-07T07:51:53.359021Z"
    },
    "papermill": {
     "duration": 0.211671,
     "end_time": "2022-10-07T07:57:19.932058",
     "exception": false,
     "start_time": "2022-10-07T07:57:19.720387",
     "status": "completed"
    },
    "tags": []
   },
   "outputs": [
    {
     "name": "stdout",
     "output_type": "stream",
     "text": [
      "[ 5.2179128e-01  1.4659788e-03 -5.9906763e-01 -3.9343226e-01\n",
      " -1.9224551e+00]\n"
     ]
    }
   ],
   "source": [
    "# Call another random function with the new key\n",
    "random_floats = random.normal(key=key, shape=(5,), dtype=jnp.float32)\n",
    "print(random_floats)"
   ]
  },
  {
   "cell_type": "markdown",
   "id": "26a28dc2",
   "metadata": {
    "papermill": {
     "duration": 0.027761,
     "end_time": "2022-10-07T07:57:19.989298",
     "exception": false,
     "start_time": "2022-10-07T07:57:19.961537",
     "status": "completed"
    },
    "tags": []
   },
   "source": [
    "**Note:** Although we are calling them `key` and `subkey`, both are states and you can pass either of them to any random function or even the `split` function"
   ]
  },
  {
   "cell_type": "markdown",
   "id": "48e23849",
   "metadata": {
    "papermill": {
     "duration": 0.027706,
     "end_time": "2022-10-07T07:57:20.045153",
     "exception": false,
     "start_time": "2022-10-07T07:57:20.017447",
     "status": "completed"
    },
    "tags": []
   },
   "source": [
    "# JAX PRNG: Pros and Cons\n",
    "\n",
    "Now that we have seen the design of PRNG in JAX and how it is implemented and consumed, it is time to discuss the `pros` and `cons` of this approach. **After all, anything and everything has pros and cons**\n",
    "\n",
    "\n",
    "## Pros\n",
    "\n",
    "1. The JAX PRNG is a counter-based PRNG design and it uses the **Threefry hash function**. This design allows JAX to escape sequential execution order constraint, allowing everything to be vectorizable and to be parallelizable without giving up on reproducibility\n",
    "2. Every random function consumes the state but doesn't change it. Neither the `key` has to be returned from the function\n",
    "3. The `split` method is **deterministic**. So, if you start with a random key, and split it into `n` keys in your code, you can be assured that every time you run the code, you will get the same splits. We will see an example of this right away\n",
    "4. You can generate `n` number of keys from a key in a single go and keep passing them around"
   ]
  },
  {
   "cell_type": "code",
   "execution_count": 16,
   "id": "c213f813",
   "metadata": {
    "execution": {
     "iopub.execute_input": "2022-10-07T07:57:20.109493Z",
     "iopub.status.busy": "2022-10-07T07:57:20.108722Z",
     "iopub.status.idle": "2022-10-07T07:57:20.129903Z",
     "shell.execute_reply": "2022-10-07T07:57:20.130482Z",
     "shell.execute_reply.started": "2022-10-07T07:53:09.270470Z"
    },
    "papermill": {
     "duration": 0.057271,
     "end_time": "2022-10-07T07:57:20.130694",
     "exception": false,
     "start_time": "2022-10-07T07:57:20.073423",
     "status": "completed"
    },
    "tags": []
   },
   "outputs": [
    {
     "name": "stdout",
     "output_type": "stream",
     "text": [
      "Iteration: 1\n",
      "\n",
      "Original key: [   0 1234]\n",
      "First subkey: [2113592192 1902136347]\n",
      "Second subkey: [603280156 445306386]\n",
      "==================================================\n",
      "\n",
      "Iteration: 2\n",
      "\n",
      "Original key: [   0 1234]\n",
      "First subkey: [2113592192 1902136347]\n",
      "Second subkey: [603280156 445306386]\n",
      "==================================================\n",
      "\n",
      "Iteration: 3\n",
      "\n",
      "Original key: [   0 1234]\n",
      "First subkey: [2113592192 1902136347]\n",
      "Second subkey: [603280156 445306386]\n",
      "==================================================\n",
      "\n",
      "Iteration: 4\n",
      "\n",
      "Original key: [   0 1234]\n",
      "First subkey: [2113592192 1902136347]\n",
      "Second subkey: [603280156 445306386]\n",
      "==================================================\n",
      "\n",
      "Iteration: 5\n",
      "\n",
      "Original key: [   0 1234]\n",
      "First subkey: [2113592192 1902136347]\n",
      "Second subkey: [603280156 445306386]\n",
      "==================================================\n",
      "\n"
     ]
    }
   ],
   "source": [
    "# Splitting is deterministic!\n",
    "\n",
    "for i in range(5):\n",
    "    key = random.PRNGKey(1234)\n",
    "    print(f\"Iteration: {i+1}\\n\")\n",
    "    print(f\"Original key: {key}\")\n",
    "    key, subkey = random.split(key)\n",
    "    print(f\"First subkey: {key}\")\n",
    "    print(f\"Second subkey: {subkey}\")\n",
    "    print(\"=\"*50)\n",
    "    print(\"\")"
   ]
  },
  {
   "cell_type": "code",
   "execution_count": 17,
   "id": "cc708f67",
   "metadata": {
    "execution": {
     "iopub.execute_input": "2022-10-07T07:57:20.191667Z",
     "iopub.status.busy": "2022-10-07T07:57:20.190798Z",
     "iopub.status.idle": "2022-10-07T07:57:20.367431Z",
     "shell.execute_reply": "2022-10-07T07:57:20.368198Z",
     "shell.execute_reply.started": "2022-10-07T07:53:23.951127Z"
    },
    "papermill": {
     "duration": 0.208892,
     "end_time": "2022-10-07T07:57:20.368475",
     "exception": false,
     "start_time": "2022-10-07T07:57:20.159583",
     "status": "completed"
    },
    "tags": []
   },
   "outputs": [
    {
     "name": "stdout",
     "output_type": "stream",
     "text": [
      "Original key: [  0 111]\n",
      "\n",
      "Subkey no: 1  Subkey: [2149343144 3788759061]\n",
      "Subkey no: 2  Subkey: [1263116805 2203640444]\n",
      "Subkey no: 3  Subkey: [ 260051842 2161001049]\n",
      "Subkey no: 4  Subkey: [ 450316230 2080109636]\n",
      "Subkey no: 5  Subkey: [2532194002 3516360950]\n"
     ]
    }
   ],
   "source": [
    "# You can generate multiple keys at one go with one split\n",
    "key = random.PRNGKey(111)\n",
    "print(f\"Original key: {key}\\n\")\n",
    "\n",
    "subkeys = random.split(key, num=5)\n",
    "\n",
    "for i, subkey in enumerate(subkeys):\n",
    "    print(f\"Subkey no: {i+1}  Subkey: {subkey}\")"
   ]
  },
  {
   "cell_type": "markdown",
   "id": "6612631d",
   "metadata": {
    "papermill": {
     "duration": 0.029308,
     "end_time": "2022-10-07T07:57:20.428283",
     "exception": false,
     "start_time": "2022-10-07T07:57:20.398975",
     "status": "completed"
    },
    "tags": []
   },
   "source": [
    "## Cons\n",
    "\n",
    "1. The new PRNG design in JAX is only possible if we give up **Sequential Equivalent Guarantee**. Why? Because that property is incompatible with vectorization, the latter one is, in fact, a priority for JAX\n",
    "2. This is not a con as such but this is something an end-user can easily forget. Two things to consider here:\n",
    "    * If you call a function again and again with the same key, you will **always** get the same output. Consider that you want to sample 5 random numbers from a uniform distribution. If you pass the same key to your sampling function, you will end up with 5 duplicate numbers.\n",
    "    * If you pass the same key to different functions, in some cases you will get highly correlated results. The end-user should always split the key before passing to anything that uses a random function in whatsoever sense\n",
    "    \n",
    "Let's take an example of each to clarify these points"
   ]
  },
  {
   "cell_type": "code",
   "execution_count": 18,
   "id": "3d0c85f6",
   "metadata": {
    "execution": {
     "iopub.execute_input": "2022-10-07T07:57:20.491602Z",
     "iopub.status.busy": "2022-10-07T07:57:20.490627Z",
     "iopub.status.idle": "2022-10-07T07:57:20.754362Z",
     "shell.execute_reply": "2022-10-07T07:57:20.754910Z",
     "shell.execute_reply.started": "2022-10-07T07:54:49.878811Z"
    },
    "papermill": {
     "duration": 0.297204,
     "end_time": "2022-10-07T07:57:20.755104",
     "exception": false,
     "start_time": "2022-10-07T07:57:20.457900",
     "status": "completed"
    },
    "tags": []
   },
   "outputs": [
    {
     "name": "stdout",
     "output_type": "stream",
     "text": [
      "Generated all at once:  [2 4 9 9 4]\n",
      "Generated sequentially:  [1 5 8 7]\n"
     ]
    }
   ],
   "source": [
    "# No more Sequential Equivalent Guarantee unlike numpy\n",
    "\n",
    "key = random.PRNGKey(1234)\n",
    "random_integers_1 = random.randint(key=key, minval=0, maxval=10, shape=(5,))\n",
    "\n",
    "key = random.PRNGKey(1234)\n",
    "key, *subkeys = random.split(key, 5)\n",
    "random_integers_2 = []\n",
    "\n",
    "for subkey in subkeys:\n",
    "    num = random.randint(key=subkey, minval=0, maxval=10, shape=(1,))\n",
    "    random_integers_2.append(num)\n",
    "\n",
    "random_integers_2 = np.stack(random_integers_2, axis=-1)[0]\n",
    "\n",
    "print(\"Generated all at once: \", random_integers_1)\n",
    "print(\"Generated sequentially: \", random_integers_2)"
   ]
  },
  {
   "cell_type": "code",
   "execution_count": 19,
   "id": "8510c5c2",
   "metadata": {
    "execution": {
     "iopub.execute_input": "2022-10-07T07:57:20.817915Z",
     "iopub.status.busy": "2022-10-07T07:57:20.816923Z",
     "iopub.status.idle": "2022-10-07T07:57:20.927608Z",
     "shell.execute_reply": "2022-10-07T07:57:20.928178Z",
     "shell.execute_reply.started": "2022-10-07T07:56:06.500803Z"
    },
    "papermill": {
     "duration": 0.14393,
     "end_time": "2022-10-07T07:57:20.928405",
     "exception": false,
     "start_time": "2022-10-07T07:57:20.784475",
     "status": "completed"
    },
    "tags": []
   },
   "outputs": [
    {
     "name": "stdout",
     "output_type": "stream",
     "text": [
      "First sample:  [0.21629536 0.8041241 ]\n",
      "Second sample:  [0.43259072 1.6082482 ]\n"
     ]
    }
   ],
   "source": [
    "# Possible highly correlated outputs. \n",
    "# Not a very good example but serves the demonstration purpose\n",
    "\n",
    "def sampler1(key):\n",
    "    return random.uniform(key=key, minval=0, maxval=1, shape=(2,))\n",
    "\n",
    "def sampler2(key):\n",
    "    return 2 * random.uniform(key=key, minval=0, maxval=1, shape=(2,))\n",
    "\n",
    "key = random.PRNGKey(0)\n",
    "sample_1 = sampler1(key=key)\n",
    "sample_2 = sampler2(key=key)\n",
    "\n",
    "print(\"First sample: \", sample_1)\n",
    "print(\"Second sample: \", sample_2)"
   ]
  },
  {
   "cell_type": "markdown",
   "id": "1532d992",
   "metadata": {
    "papermill": {
     "duration": 0.029375,
     "end_time": "2022-10-07T07:57:20.988363",
     "exception": false,
     "start_time": "2022-10-07T07:57:20.958988",
     "status": "completed"
    },
    "tags": []
   },
   "source": [
    "Whattttttt!!! Let's try that in numpy now!"
   ]
  },
  {
   "cell_type": "code",
   "execution_count": 20,
   "id": "78385b73",
   "metadata": {
    "execution": {
     "iopub.execute_input": "2022-10-07T07:57:21.056004Z",
     "iopub.status.busy": "2022-10-07T07:57:21.055090Z",
     "iopub.status.idle": "2022-10-07T07:57:21.059177Z",
     "shell.execute_reply": "2022-10-07T07:57:21.058559Z",
     "shell.execute_reply.started": "2022-10-07T07:56:43.995424Z"
    },
    "papermill": {
     "duration": 0.041236,
     "end_time": "2022-10-07T07:57:21.059340",
     "exception": false,
     "start_time": "2022-10-07T07:57:21.018104",
     "status": "completed"
    },
    "tags": []
   },
   "outputs": [
    {
     "name": "stdout",
     "output_type": "stream",
     "text": [
      "First sample:  [0.5488135  0.71518937]\n",
      "Second sample:  [1.20552675 1.08976637]\n"
     ]
    }
   ],
   "source": [
    "def sampler1():\n",
    "    return np.random.uniform(low=0, high=1, size=(2,))\n",
    "\n",
    "def sampler2():\n",
    "    return 2 * np.random.uniform(low=0, high=1, size=(2,))\n",
    "\n",
    "np.random.seed(0)\n",
    "sample_1 = sampler1()\n",
    "sample_2 = sampler2()\n",
    "\n",
    "print(\"First sample: \", sample_1)\n",
    "print(\"Second sample: \", sample_2)"
   ]
  },
  {
   "cell_type": "markdown",
   "id": "41f682f2",
   "metadata": {
    "papermill": {
     "duration": 0.030418,
     "end_time": "2022-10-07T07:57:21.120501",
     "exception": false,
     "start_time": "2022-10-07T07:57:21.090083",
     "status": "completed"
    },
    "tags": []
   },
   "source": [
    "You see that in JAX code, the outputs of two samplers were highly correlated while in numpy code we didn't get that perfect correlation. **Lesson?** Unless you want the same outputs, never reuse a `key` by passing it to different random functions in JAX. **Always split the key!**\n",
    "\n",
    "That's it for Part 6! We will dive into other important concepts in the next tutorial. Stay tuned!\n",
    "\n",
    "# References\n",
    "1. https://jax.readthedocs.io/en/latest/notebooks/Common_Gotchas_in_JAX.html#rngs-and-state\n",
    "2. https://github.com/google/jax/blob/main/design_notes/prng.md\n",
    "3. https://numpy.org/neps/nep-0019-rng-policy.html\n",
    "4. https://albertcthomas.github.io/good-practices-random-number-generators/\n",
    "5. https://courses.physics.illinois.edu/phys466/fa2016/lnotes/PRNG.pdf"
   ]
  },
  {
   "cell_type": "code",
   "execution_count": null,
   "id": "72be1319",
   "metadata": {
    "papermill": {
     "duration": 0.029922,
     "end_time": "2022-10-07T07:57:21.180711",
     "exception": false,
     "start_time": "2022-10-07T07:57:21.150789",
     "status": "completed"
    },
    "tags": []
   },
   "outputs": [],
   "source": []
  }
 ],
 "metadata": {
  "kernelspec": {
   "display_name": "Python 3",
   "language": "python",
   "name": "python3"
  },
  "language_info": {
   "codemirror_mode": {
    "name": "ipython",
    "version": 3
   },
   "file_extension": ".py",
   "mimetype": "text/x-python",
   "name": "python",
   "nbconvert_exporter": "python",
   "pygments_lexer": "ipython3",
   "version": "3.7.10"
  },
  "papermill": {
   "default_parameters": {},
   "duration": 14.784383,
   "end_time": "2022-10-07T07:57:22.021417",
   "environment_variables": {},
   "exception": null,
   "input_path": "__notebook__.ipynb",
   "output_path": "__notebook__.ipynb",
   "parameters": {},
   "start_time": "2022-10-07T07:57:07.237034",
   "version": "2.3.3"
  }
 },
 "nbformat": 4,
 "nbformat_minor": 5
}
